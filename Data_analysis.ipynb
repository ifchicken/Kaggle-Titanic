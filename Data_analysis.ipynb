{
 "cells": [
  {
   "cell_type": "markdown",
   "metadata": {},
   "source": [
    "# Kaggle-Titanic"
   ]
  },
  {
   "cell_type": "markdown",
   "metadata": {},
   "source": [
    "### The object of this project is to predict the survival of passengers in testing data based on training data\n",
    "\n",
    "### https://www.kaggle.com/c/titanic"
   ]
  },
  {
   "cell_type": "code",
   "execution_count": 1,
   "metadata": {
    "collapsed": true
   },
   "outputs": [],
   "source": [
    "import numpy as np\n",
    "import pandas as pd\n",
    "import matplotlib.pyplot as plt\n",
    "import seaborn as sns\n",
    "%matplotlib inline"
   ]
  },
  {
   "cell_type": "markdown",
   "metadata": {},
   "source": [
    "# Load data"
   ]
  },
  {
   "cell_type": "code",
   "execution_count": 2,
   "metadata": {
    "collapsed": false
   },
   "outputs": [
    {
     "name": "stdout",
     "output_type": "stream",
     "text": [
      "(891, 12) (418, 11)\n"
     ]
    }
   ],
   "source": [
    "train = pd.read_csv('train.csv')\n",
    "test = pd.read_csv('test.csv')\n",
    "all_data = pd.concat([train, test], ignore_index=True)\n",
    "print (train.shape, test.shape)"
   ]
  },
  {
   "cell_type": "code",
   "execution_count": 3,
   "metadata": {
    "collapsed": false
   },
   "outputs": [
    {
     "data": {
      "text/html": [
       "<div>\n",
       "<table border=\"1\" class=\"dataframe\">\n",
       "  <thead>\n",
       "    <tr style=\"text-align: right;\">\n",
       "      <th></th>\n",
       "      <th>PassengerId</th>\n",
       "      <th>Survived</th>\n",
       "      <th>Pclass</th>\n",
       "      <th>Name</th>\n",
       "      <th>Sex</th>\n",
       "      <th>Age</th>\n",
       "      <th>SibSp</th>\n",
       "      <th>Parch</th>\n",
       "      <th>Ticket</th>\n",
       "      <th>Fare</th>\n",
       "      <th>Cabin</th>\n",
       "      <th>Embarked</th>\n",
       "    </tr>\n",
       "  </thead>\n",
       "  <tbody>\n",
       "    <tr>\n",
       "      <th>0</th>\n",
       "      <td>1</td>\n",
       "      <td>0</td>\n",
       "      <td>3</td>\n",
       "      <td>Braund, Mr. Owen Harris</td>\n",
       "      <td>male</td>\n",
       "      <td>22.0</td>\n",
       "      <td>1</td>\n",
       "      <td>0</td>\n",
       "      <td>A/5 21171</td>\n",
       "      <td>7.2500</td>\n",
       "      <td>NaN</td>\n",
       "      <td>S</td>\n",
       "    </tr>\n",
       "    <tr>\n",
       "      <th>1</th>\n",
       "      <td>2</td>\n",
       "      <td>1</td>\n",
       "      <td>1</td>\n",
       "      <td>Cumings, Mrs. John Bradley (Florence Briggs Th...</td>\n",
       "      <td>female</td>\n",
       "      <td>38.0</td>\n",
       "      <td>1</td>\n",
       "      <td>0</td>\n",
       "      <td>PC 17599</td>\n",
       "      <td>71.2833</td>\n",
       "      <td>C85</td>\n",
       "      <td>C</td>\n",
       "    </tr>\n",
       "    <tr>\n",
       "      <th>2</th>\n",
       "      <td>3</td>\n",
       "      <td>1</td>\n",
       "      <td>3</td>\n",
       "      <td>Heikkinen, Miss. Laina</td>\n",
       "      <td>female</td>\n",
       "      <td>26.0</td>\n",
       "      <td>0</td>\n",
       "      <td>0</td>\n",
       "      <td>STON/O2. 3101282</td>\n",
       "      <td>7.9250</td>\n",
       "      <td>NaN</td>\n",
       "      <td>S</td>\n",
       "    </tr>\n",
       "    <tr>\n",
       "      <th>3</th>\n",
       "      <td>4</td>\n",
       "      <td>1</td>\n",
       "      <td>1</td>\n",
       "      <td>Futrelle, Mrs. Jacques Heath (Lily May Peel)</td>\n",
       "      <td>female</td>\n",
       "      <td>35.0</td>\n",
       "      <td>1</td>\n",
       "      <td>0</td>\n",
       "      <td>113803</td>\n",
       "      <td>53.1000</td>\n",
       "      <td>C123</td>\n",
       "      <td>S</td>\n",
       "    </tr>\n",
       "    <tr>\n",
       "      <th>4</th>\n",
       "      <td>5</td>\n",
       "      <td>0</td>\n",
       "      <td>3</td>\n",
       "      <td>Allen, Mr. William Henry</td>\n",
       "      <td>male</td>\n",
       "      <td>35.0</td>\n",
       "      <td>0</td>\n",
       "      <td>0</td>\n",
       "      <td>373450</td>\n",
       "      <td>8.0500</td>\n",
       "      <td>NaN</td>\n",
       "      <td>S</td>\n",
       "    </tr>\n",
       "  </tbody>\n",
       "</table>\n",
       "</div>"
      ],
      "text/plain": [
       "   PassengerId  Survived  Pclass  \\\n",
       "0            1         0       3   \n",
       "1            2         1       1   \n",
       "2            3         1       3   \n",
       "3            4         1       1   \n",
       "4            5         0       3   \n",
       "\n",
       "                                                Name     Sex   Age  SibSp  \\\n",
       "0                            Braund, Mr. Owen Harris    male  22.0      1   \n",
       "1  Cumings, Mrs. John Bradley (Florence Briggs Th...  female  38.0      1   \n",
       "2                             Heikkinen, Miss. Laina  female  26.0      0   \n",
       "3       Futrelle, Mrs. Jacques Heath (Lily May Peel)  female  35.0      1   \n",
       "4                           Allen, Mr. William Henry    male  35.0      0   \n",
       "\n",
       "   Parch            Ticket     Fare Cabin Embarked  \n",
       "0      0         A/5 21171   7.2500   NaN        S  \n",
       "1      0          PC 17599  71.2833   C85        C  \n",
       "2      0  STON/O2. 3101282   7.9250   NaN        S  \n",
       "3      0            113803  53.1000  C123        S  \n",
       "4      0            373450   8.0500   NaN        S  "
      ]
     },
     "execution_count": 3,
     "metadata": {},
     "output_type": "execute_result"
    }
   ],
   "source": [
    "train.head()"
   ]
  },
  {
   "cell_type": "code",
   "execution_count": 4,
   "metadata": {
    "collapsed": false
   },
   "outputs": [
    {
     "name": "stdout",
     "output_type": "stream",
     "text": [
      "<class 'pandas.core.frame.DataFrame'>\n",
      "RangeIndex: 891 entries, 0 to 890\n",
      "Data columns (total 12 columns):\n",
      "PassengerId    891 non-null int64\n",
      "Survived       891 non-null int64\n",
      "Pclass         891 non-null int64\n",
      "Name           891 non-null object\n",
      "Sex            891 non-null object\n",
      "Age            714 non-null float64\n",
      "SibSp          891 non-null int64\n",
      "Parch          891 non-null int64\n",
      "Ticket         891 non-null object\n",
      "Fare           891 non-null float64\n",
      "Cabin          204 non-null object\n",
      "Embarked       889 non-null object\n",
      "dtypes: float64(2), int64(5), object(5)\n",
      "memory usage: 83.6+ KB\n",
      "None\n",
      "------------------------------\n",
      "<class 'pandas.core.frame.DataFrame'>\n",
      "RangeIndex: 418 entries, 0 to 417\n",
      "Data columns (total 11 columns):\n",
      "PassengerId    418 non-null int64\n",
      "Pclass         418 non-null int64\n",
      "Name           418 non-null object\n",
      "Sex            418 non-null object\n",
      "Age            332 non-null float64\n",
      "SibSp          418 non-null int64\n",
      "Parch          418 non-null int64\n",
      "Ticket         418 non-null object\n",
      "Fare           417 non-null float64\n",
      "Cabin          91 non-null object\n",
      "Embarked       418 non-null object\n",
      "dtypes: float64(2), int64(4), object(5)\n",
      "memory usage: 36.0+ KB\n",
      "None\n"
     ]
    }
   ],
   "source": [
    "print (train.info())\n",
    "print ('-' * 30)\n",
    "print (test.info())\n",
    "# train.isnull().sum() \n",
    "# can count all Nan value"
   ]
  },
  {
   "cell_type": "code",
   "execution_count": 5,
   "metadata": {
    "collapsed": false
   },
   "outputs": [
    {
     "data": {
      "text/html": [
       "<div>\n",
       "<table border=\"1\" class=\"dataframe\">\n",
       "  <thead>\n",
       "    <tr style=\"text-align: right;\">\n",
       "      <th></th>\n",
       "      <th>PassengerId</th>\n",
       "      <th>Survived</th>\n",
       "      <th>Pclass</th>\n",
       "      <th>Age</th>\n",
       "      <th>SibSp</th>\n",
       "      <th>Parch</th>\n",
       "      <th>Fare</th>\n",
       "    </tr>\n",
       "  </thead>\n",
       "  <tbody>\n",
       "    <tr>\n",
       "      <th>count</th>\n",
       "      <td>891.000000</td>\n",
       "      <td>891.000000</td>\n",
       "      <td>891.000000</td>\n",
       "      <td>714.000000</td>\n",
       "      <td>891.000000</td>\n",
       "      <td>891.000000</td>\n",
       "      <td>891.000000</td>\n",
       "    </tr>\n",
       "    <tr>\n",
       "      <th>mean</th>\n",
       "      <td>446.000000</td>\n",
       "      <td>0.383838</td>\n",
       "      <td>2.308642</td>\n",
       "      <td>29.699118</td>\n",
       "      <td>0.523008</td>\n",
       "      <td>0.381594</td>\n",
       "      <td>32.204208</td>\n",
       "    </tr>\n",
       "    <tr>\n",
       "      <th>std</th>\n",
       "      <td>257.353842</td>\n",
       "      <td>0.486592</td>\n",
       "      <td>0.836071</td>\n",
       "      <td>14.526497</td>\n",
       "      <td>1.102743</td>\n",
       "      <td>0.806057</td>\n",
       "      <td>49.693429</td>\n",
       "    </tr>\n",
       "    <tr>\n",
       "      <th>min</th>\n",
       "      <td>1.000000</td>\n",
       "      <td>0.000000</td>\n",
       "      <td>1.000000</td>\n",
       "      <td>0.420000</td>\n",
       "      <td>0.000000</td>\n",
       "      <td>0.000000</td>\n",
       "      <td>0.000000</td>\n",
       "    </tr>\n",
       "    <tr>\n",
       "      <th>25%</th>\n",
       "      <td>223.500000</td>\n",
       "      <td>0.000000</td>\n",
       "      <td>2.000000</td>\n",
       "      <td>20.125000</td>\n",
       "      <td>0.000000</td>\n",
       "      <td>0.000000</td>\n",
       "      <td>7.910400</td>\n",
       "    </tr>\n",
       "    <tr>\n",
       "      <th>50%</th>\n",
       "      <td>446.000000</td>\n",
       "      <td>0.000000</td>\n",
       "      <td>3.000000</td>\n",
       "      <td>28.000000</td>\n",
       "      <td>0.000000</td>\n",
       "      <td>0.000000</td>\n",
       "      <td>14.454200</td>\n",
       "    </tr>\n",
       "    <tr>\n",
       "      <th>75%</th>\n",
       "      <td>668.500000</td>\n",
       "      <td>1.000000</td>\n",
       "      <td>3.000000</td>\n",
       "      <td>38.000000</td>\n",
       "      <td>1.000000</td>\n",
       "      <td>0.000000</td>\n",
       "      <td>31.000000</td>\n",
       "    </tr>\n",
       "    <tr>\n",
       "      <th>max</th>\n",
       "      <td>891.000000</td>\n",
       "      <td>1.000000</td>\n",
       "      <td>3.000000</td>\n",
       "      <td>80.000000</td>\n",
       "      <td>8.000000</td>\n",
       "      <td>6.000000</td>\n",
       "      <td>512.329200</td>\n",
       "    </tr>\n",
       "  </tbody>\n",
       "</table>\n",
       "</div>"
      ],
      "text/plain": [
       "       PassengerId    Survived      Pclass         Age       SibSp  \\\n",
       "count   891.000000  891.000000  891.000000  714.000000  891.000000   \n",
       "mean    446.000000    0.383838    2.308642   29.699118    0.523008   \n",
       "std     257.353842    0.486592    0.836071   14.526497    1.102743   \n",
       "min       1.000000    0.000000    1.000000    0.420000    0.000000   \n",
       "25%     223.500000    0.000000    2.000000   20.125000    0.000000   \n",
       "50%     446.000000    0.000000    3.000000   28.000000    0.000000   \n",
       "75%     668.500000    1.000000    3.000000   38.000000    1.000000   \n",
       "max     891.000000    1.000000    3.000000   80.000000    8.000000   \n",
       "\n",
       "            Parch        Fare  \n",
       "count  891.000000  891.000000  \n",
       "mean     0.381594   32.204208  \n",
       "std      0.806057   49.693429  \n",
       "min      0.000000    0.000000  \n",
       "25%      0.000000    7.910400  \n",
       "50%      0.000000   14.454200  \n",
       "75%      0.000000   31.000000  \n",
       "max      6.000000  512.329200  "
      ]
     },
     "execution_count": 5,
     "metadata": {},
     "output_type": "execute_result"
    }
   ],
   "source": [
    "train.describe()"
   ]
  },
  {
   "cell_type": "markdown",
   "metadata": {},
   "source": [
    "# Data Analysis"
   ]
  },
  {
   "cell_type": "markdown",
   "metadata": {},
   "source": [
    "## 1. total survived: 38%"
   ]
  },
  {
   "cell_type": "code",
   "execution_count": 6,
   "metadata": {
    "collapsed": false
   },
   "outputs": [
    {
     "data": {
      "text/plain": [
       "<matplotlib.axes._subplots.AxesSubplot at 0x119577780>"
      ]
     },
     "execution_count": 6,
     "metadata": {},
     "output_type": "execute_result"
    },
    {
     "data": {
      "image/png": "[encoded data removed]",
      "text/plain": [
       "<matplotlib.figure.Figure at 0x119577240>"
      ]
     },
     "metadata": {},
     "output_type": "display_data"
    }
   ],
   "source": [
    "train['Survived'].value_counts().plot.pie(autopct='%1.2f%%')\n",
    "# sns.countplot(df['Survived'])"
   ]
  },
  {
   "cell_type": "markdown",
   "metadata": {},
   "source": [
    "## 2. sex, male survived: 19%, female survived: 74%"
   ]
  },
  {
   "cell_type": "code",
   "execution_count": 7,
   "metadata": {
    "collapsed": false
   },
   "outputs": [
    {
     "name": "stdout",
     "output_type": "stream",
     "text": [
      "total male:  577\n",
      "male survived:  109\n",
      "m survived %:  0.188908145581\n",
      "------------------------------\n",
      "total female:  314\n",
      "female survived:  233\n",
      "f survived %:  0.742038216561\n"
     ]
    }
   ],
   "source": [
    "print (\"total male: \", train['Survived'][train['Sex'] == 'male'].count())\n",
    "print (\"male survived: \", train['Survived'][train['Sex'] == 'male'].sum())\n",
    "print ('m survived %: ', train['Survived'][train['Sex'] == 'male'].sum() / train['Survived'][train['Sex'] == 'male'].count())\n",
    "print ('-' * 30)\n",
    "print (\"total female: \", train['Survived'][train['Sex'] == 'female'].count())\n",
    "print (\"female survived: \", train['Survived'][train['Sex'] == 'female'].sum())\n",
    "print ('f survived %: ', train['Survived'][train['Sex'] == 'female'].sum() / train['Survived'][train['Sex'] == 'female'].count())"
   ]
  },
  {
   "cell_type": "code",
   "execution_count": 8,
   "metadata": {
    "collapsed": false
   },
   "outputs": [
    {
     "data": {
      "text/plain": [
       "<matplotlib.axes._subplots.AxesSubplot at 0x119577438>"
      ]
     },
     "execution_count": 8,
     "metadata": {},
     "output_type": "execute_result"
    },
    {
     "data": {
      "image/png": "[encoded data removed]",
      "text/plain": [
       "<matplotlib.figure.Figure at 0x10e484320>"
      ]
     },
     "metadata": {},
     "output_type": "display_data"
    }
   ],
   "source": [
    "sns.barplot(x='Sex', y = 'Survived', data=train, palette='Set2') #Set: tune clor"
   ]
  },
  {
   "cell_type": "markdown",
   "metadata": {},
   "source": [
    "## 3. Pclass, class1 survived: 63%, class2 survived: 47%, class3 survived 24%"
   ]
  },
  {
   "cell_type": "code",
   "execution_count": 9,
   "metadata": {
    "collapsed": false
   },
   "outputs": [
    {
     "name": "stdout",
     "output_type": "stream",
     "text": [
      "class1 survived %:  62.962962963 %\n",
      "class2 survived %:  47.2826086957 %\n",
      "class3 survived %:  24.2362525458 %\n"
     ]
    },
    {
     "data": {
      "text/plain": [
       "<matplotlib.axes._subplots.AxesSubplot at 0x1195ee780>"
      ]
     },
     "execution_count": 9,
     "metadata": {},
     "output_type": "execute_result"
    },
    {
     "data": {
      "image/png": "[encoded data removed]",
      "text/plain": [
       "<matplotlib.figure.Figure at 0x1194abfd0>"
      ]
     },
     "metadata": {},
     "output_type": "display_data"
    }
   ],
   "source": [
    "print ('class1 survived %: ', train['Survived'][train['Pclass'] == 1].value_counts(normalize=True)[1] * 100, '%')\n",
    "print ('class2 survived %: ', train['Survived'][train['Pclass'] == 2].value_counts(normalize=True)[1] * 100, '%')\n",
    "print ('class3 survived %: ', train['Survived'][train['Pclass'] == 3].value_counts(normalize=True)[1] * 100, '%')\n",
    "sns.barplot(x='Pclass', y='Survived', data=train, palette='Set2')"
   ]
  },
  {
   "cell_type": "code",
   "execution_count": 10,
   "metadata": {
    "collapsed": false
   },
   "outputs": [
    {
     "data": {
      "text/plain": [
       "<seaborn.axisgrid.FacetGrid at 0x115bf56d8>"
      ]
     },
     "execution_count": 10,
     "metadata": {},
     "output_type": "execute_result"
    },
    {
     "data": {
      "image/png": "[encoded data removed]",
      "text/plain": [
       "<matplotlib.figure.Figure at 0x1196812e8>"
      ]
     },
     "metadata": {},
     "output_type": "display_data"
    }
   ],
   "source": [
    "sns.factorplot(x='Pclass', hue='Sex', col='Survived', data=all_data, kind='count')"
   ]
  },
  {
   "cell_type": "markdown",
   "metadata": {},
   "source": [
    "### women in class 1 and class 2 almost survived"
   ]
  },
  {
   "cell_type": "markdown",
   "metadata": {},
   "source": [
    "## 4. Fare, higher fare has higher chance to survived"
   ]
  },
  {
   "cell_type": "code",
   "execution_count": 11,
   "metadata": {
    "collapsed": false
   },
   "outputs": [
    {
     "data": {
      "text/plain": [
       "<seaborn.axisgrid.FacetGrid at 0x11b881898>"
      ]
     },
     "execution_count": 11,
     "metadata": {},
     "output_type": "execute_result"
    },
    {
     "data": {
      "image/png": "[encoded data removed]",
      "text/plain": [
       "<matplotlib.figure.Figure at 0x11ba887b8>"
      ]
     },
     "metadata": {},
     "output_type": "display_data"
    }
   ],
   "source": [
    "facet = sns.FacetGrid(train, hue='Survived', aspect=2)\n",
    "facet.map(sns.kdeplot, 'Fare', shade=True)\n",
    "\n",
    "## plot setting\n",
    "facet.set(xlim=(0, 200)) # 1 Fare:500\n",
    "facet.add_legend()"
   ]
  },
  {
   "cell_type": "markdown",
   "metadata": {},
   "source": [
    "### Pclass has strong correlation with Fare"
   ]
  },
  {
   "cell_type": "code",
   "execution_count": 12,
   "metadata": {
    "collapsed": false
   },
   "outputs": [
    {
     "name": "stdout",
     "output_type": "stream",
     "text": [
      "             Fare\n",
      "Pclass           \n",
      "1       87.508992\n",
      "2       21.179196\n",
      "3       13.302889\n"
     ]
    },
    {
     "data": {
      "image/png": "[encoded data removed]",
      "text/plain": [
       "<matplotlib.figure.Figure at 0x11bc981d0>"
      ]
     },
     "metadata": {},
     "output_type": "display_data"
    }
   ],
   "source": [
    "#sns.regplot(x=all_data[\"Pclass\"], y=all_data[\"Fare\"], fit_reg=False)\n",
    "fig = sns.boxplot('Pclass', 'Fare', data=all_data)\n",
    "fig.set(ylim=(0, 300)) # there's a $500 at Pclass1\n",
    "print (all_data[['Pclass', 'Fare']].groupby(['Pclass']).mean())"
   ]
  },
  {
   "cell_type": "code",
   "execution_count": 13,
   "metadata": {
    "collapsed": false
   },
   "outputs": [
    {
     "data": {
      "text/plain": [
       "<seaborn.axisgrid.FacetGrid at 0x11b89f2e8>"
      ]
     },
     "execution_count": 13,
     "metadata": {},
     "output_type": "execute_result"
    },
    {
     "data": {
      "image/png": "[encoded data removed]",
      "text/plain": [
       "<matplotlib.figure.Figure at 0x11bdca400>"
      ]
     },
     "metadata": {},
     "output_type": "display_data"
    }
   ],
   "source": [
    "#all_data.head()\n",
    "#all_data['Fare'].fillna(13.3, inplace=True) # reason is at next part\n",
    "all_data['Fare_bin'] = all_data['Fare']\n",
    "bins=[0,13, 21, 50, 600]\n",
    "all_data['Fare_bin'] = pd.cut(all_data['Fare_bin'], bins)\n",
    "sns.factorplot(x='Fare_bin', hue='Sex', col='Survived', data=all_data, kind='count')"
   ]
  },
  {
   "cell_type": "code",
   "execution_count": 14,
   "metadata": {
    "collapsed": false
   },
   "outputs": [
    {
     "data": {
      "text/plain": [
       "<matplotlib.axes._subplots.AxesSubplot at 0x11bf0e5f8>"
      ]
     },
     "execution_count": 14,
     "metadata": {},
     "output_type": "execute_result"
    },
    {
     "data": {
      "image/png": "[encoded data removed]",
      "text/plain": [
       "<matplotlib.figure.Figure at 0x1195e70f0>"
      ]
     },
     "metadata": {},
     "output_type": "display_data"
    }
   ],
   "source": [
    "sns.barplot(x='Fare_bin', y='Survived', data=all_data, palette='Set2')"
   ]
  },
  {
   "cell_type": "code",
   "execution_count": 15,
   "metadata": {
    "collapsed": false
   },
   "outputs": [],
   "source": [
    "#tt = all_data.drop(all_data[(all_data['Pclass'] != 3) & (all_data['Sex'] == 'female')].index)"
   ]
  },
  {
   "cell_type": "code",
   "execution_count": 16,
   "metadata": {
    "collapsed": false
   },
   "outputs": [],
   "source": [
    "#all_data['m_child'] = (all_data['Sex'] == 'male') & (all_data['Parch'] != 0) & (all_data['SibSp'] == 0)\n",
    "#all_data['m_partner'] = (all_data['Sex'] == 'male') & (all_data['Parch'] == 0) & (all_data['SibSp'] != 0)\n",
    "\n",
    "#all_data['f_child'] = (all_data['Sex'] == 'female') & (all_data['Parch'] != 0) & (all_data['SibSp'] == 0)\n",
    "#all_data['f_partner'] = (all_data['Sex'] == 'female') & (all_data['Parch'] == 0) & (all_data['SibSp'] != 0)\n",
    "\n",
    "#all_data['m_single'] = (all_data['Sex'] == 'male') & (all_data['SibSp'] + all_data['Parch'] == 0)\n",
    "#all_data['m_family'] = (all_data['Sex'] == 'male') & (all_data['SibSp'] + all_data['Parch'] != 0)\n",
    "#all_data['f_class3'] = (all_data['Sex'] == 'female') & (all_data['Pclass'] == 3)"
   ]
  },
  {
   "cell_type": "code",
   "execution_count": 18,
   "metadata": {
    "collapsed": false
   },
   "outputs": [],
   "source": [
    "#sns.factorplot(x='Pclass', hue='m_partner', col='Survived', data=all_data, kind='count')"
   ]
  },
  {
   "cell_type": "code",
   "execution_count": 19,
   "metadata": {
    "collapsed": false
   },
   "outputs": [],
   "source": [
    "#sns.factorplot(x='Pclass', hue='m_partner', col='Survived', data=all_data, kind='count')"
   ]
  },
  {
   "cell_type": "code",
   "execution_count": 20,
   "metadata": {
    "collapsed": false
   },
   "outputs": [],
   "source": [
    "#sns.factorplot(x='Pclass', hue='m_single', col='Survived', data=all_data, kind='count')"
   ]
  },
  {
   "cell_type": "code",
   "execution_count": 21,
   "metadata": {
    "collapsed": false
   },
   "outputs": [],
   "source": [
    "#sns.barplot(x='m_single', y='Survived', data=all_data)\n",
    "#sns.barplot(x='Fare_bin', y='Survived', data=all_data, palette='Set2')"
   ]
  },
  {
   "cell_type": "code",
   "execution_count": null,
   "metadata": {
    "collapsed": false
   },
   "outputs": [],
   "source": []
  },
  {
   "cell_type": "code",
   "execution_count": 22,
   "metadata": {
    "collapsed": false
   },
   "outputs": [
    {
     "data": {
      "text/plain": [
       "<seaborn.axisgrid.FacetGrid at 0x11bffd0f0>"
      ]
     },
     "execution_count": 22,
     "metadata": {},
     "output_type": "execute_result"
    },
    {
     "data": {
      "image/png": "[encoded data removed]",
      "text/plain": [
       "<matplotlib.figure.Figure at 0x11bffd080>"
      ]
     },
     "metadata": {},
     "output_type": "display_data"
    }
   ],
   "source": [
    "all_data['Fare_class'] = all_data['Fare'] / all_data['Pclass']\n",
    "facet = sns.FacetGrid(all_data[0:800], hue='Survived', aspect=2)\n",
    "facet.map(sns.kdeplot, 'Fare_class', shade=True)\n",
    "\n",
    "## plot setting\n",
    "facet.set(xlim=(0, 150)) # 1 Fare:500\n",
    "facet.add_legend()"
   ]
  },
  {
   "cell_type": "code",
   "execution_count": 23,
   "metadata": {
    "collapsed": false
   },
   "outputs": [
    {
     "name": "stdout",
     "output_type": "stream",
     "text": [
      "Fare_class\n",
      "(0, 4]        0.215805\n",
      "(4, 10]       0.375000\n",
      "(10, 87]      0.526119\n",
      "(87, 1000]    0.761905\n",
      "Name: Survived, dtype: float64\n"
     ]
    }
   ],
   "source": [
    "#all_data[''] = all_data['Fare'] / all_data['Pclass']\n",
    "#bins=[0,19,23, 1000]\n",
    "bins=[0,4,10, 87, 1000]\n",
    "all_data['Fare_class'] = pd.cut(all_data['Fare_class'], bins)\n",
    "print (all_data.groupby('Fare_class')['Survived'].mean())"
   ]
  },
  {
   "cell_type": "markdown",
   "metadata": {},
   "source": [
    "## 5. Age"
   ]
  },
  {
   "cell_type": "code",
   "execution_count": 24,
   "metadata": {
    "collapsed": false
   },
   "outputs": [
    {
     "data": {
      "text/plain": [
       "<seaborn.axisgrid.FacetGrid at 0x11c391f28>"
      ]
     },
     "execution_count": 24,
     "metadata": {},
     "output_type": "execute_result"
    },
    {
     "data": {
      "image/png": "[encoded data removed]",
      "text/plain": [
       "<matplotlib.figure.Figure at 0x11c1dfeb8>"
      ]
     },
     "metadata": {},
     "output_type": "display_data"
    }
   ],
   "source": [
    "facet = sns.FacetGrid(train, hue='Survived', aspect=2)\n",
    "facet.map(sns.kdeplot, 'Age', shade=True)\n",
    "\n",
    "## plot setting\n",
    "facet.set(xlim=(0, train['Age'].max()))\n",
    "facet.add_legend()"
   ]
  },
  {
   "cell_type": "code",
   "execution_count": 25,
   "metadata": {
    "collapsed": false
   },
   "outputs": [
    {
     "data": {
      "text/plain": [
       "<seaborn.axisgrid.FacetGrid at 0x11c4cf550>"
      ]
     },
     "execution_count": 25,
     "metadata": {},
     "output_type": "execute_result"
    },
    {
     "data": {
      "image/png": "[encoded data removed]",
      "text/plain": [
       "<matplotlib.figure.Figure at 0x11c1dfb00>"
      ]
     },
     "metadata": {},
     "output_type": "display_data"
    }
   ],
   "source": [
    "all_data['Age_bin'] = all_data['Age']\n",
    "bins=[0,10, 20, 30, 40, 50, 60, 70, 80]\n",
    "all_data['Age_bin'] = pd.cut(all_data['Age_bin'], bins)\n",
    "sns.factorplot(x='Age_bin', hue='Sex', col='Survived', data=all_data, kind='count')"
   ]
  },
  {
   "cell_type": "code",
   "execution_count": 26,
   "metadata": {
    "collapsed": false
   },
   "outputs": [
    {
     "data": {
      "text/plain": [
       "<matplotlib.axes._subplots.AxesSubplot at 0x11c3a3e10>"
      ]
     },
     "execution_count": 26,
     "metadata": {},
     "output_type": "execute_result"
    },
    {
     "data": {
      "image/png": "[encoded data removed]",
      "text/plain": [
       "<matplotlib.figure.Figure at 0x11c1e26a0>"
      ]
     },
     "metadata": {},
     "output_type": "display_data"
    }
   ],
   "source": [
    "sns.barplot(x='Age_bin', y='Survived', data=all_data)"
   ]
  },
  {
   "cell_type": "code",
   "execution_count": 27,
   "metadata": {
    "collapsed": false
   },
   "outputs": [
    {
     "data": {
      "text/plain": [
       "<seaborn.axisgrid.FacetGrid at 0x11c8fb780>"
      ]
     },
     "execution_count": 27,
     "metadata": {},
     "output_type": "execute_result"
    },
    {
     "data": {
      "image/png": "[encoded data removed]",
      "text/plain": [
       "<matplotlib.figure.Figure at 0x11c8f4588>"
      ]
     },
     "metadata": {},
     "output_type": "display_data"
    }
   ],
   "source": [
    "sns.factorplot(x='Age_bin', hue='Sex', col='Survived', data=all_data, kind='count')"
   ]
  },
  {
   "cell_type": "markdown",
   "metadata": {},
   "source": [
    "## 6. Family number"
   ]
  },
  {
   "cell_type": "markdown",
   "metadata": {},
   "source": [
    "### group around 2 to 4 has higher chance to survived"
   ]
  },
  {
   "cell_type": "code",
   "execution_count": 28,
   "metadata": {
    "collapsed": false
   },
   "outputs": [],
   "source": [
    "all_data['Family_size'] = all_data['SibSp'] + all_data['Parch'] + 1\n",
    "#all_data.head()"
   ]
  },
  {
   "cell_type": "code",
   "execution_count": 29,
   "metadata": {
    "collapsed": false
   },
   "outputs": [
    {
     "data": {
      "text/plain": [
       "<matplotlib.axes._subplots.AxesSubplot at 0x11c94bf60>"
      ]
     },
     "execution_count": 29,
     "metadata": {},
     "output_type": "execute_result"
    },
    {
     "data": {
      "image/png": "[encoded data removed]",
      "text/plain": [
       "<matplotlib.figure.Figure at 0x11c1df860>"
      ]
     },
     "metadata": {},
     "output_type": "display_data"
    }
   ],
   "source": [
    "sns.barplot(x='Family_size', y='Survived', data=all_data, palette='Set2')"
   ]
  },
  {
   "cell_type": "code",
   "execution_count": 30,
   "metadata": {
    "collapsed": false
   },
   "outputs": [
    {
     "data": {
      "text/html": [
       "\n",
       "        <style  type=\"text/css\" >\n",
       "        \n",
       "        \n",
       "            #T_9ef3bf1e_6941_11e8_b88a_9801a7ce5847row0_col0 {\n",
       "            \n",
       "                background-color:  #ffff66;\n",
       "            \n",
       "            }\n",
       "        \n",
       "            #T_9ef3bf1e_6941_11e8_b88a_9801a7ce5847row0_col1 {\n",
       "            \n",
       "                background-color:  #008066;\n",
       "            \n",
       "            }\n",
       "        \n",
       "            #T_9ef3bf1e_6941_11e8_b88a_9801a7ce5847row0_col2 {\n",
       "            \n",
       "                background-color:  #ffff66;\n",
       "            \n",
       "            }\n",
       "        \n",
       "            #T_9ef3bf1e_6941_11e8_b88a_9801a7ce5847row0_col3 {\n",
       "            \n",
       "                background-color:  #008066;\n",
       "            \n",
       "            }\n",
       "        \n",
       "            #T_9ef3bf1e_6941_11e8_b88a_9801a7ce5847row0_col4 {\n",
       "            \n",
       "                background-color:  #008066;\n",
       "            \n",
       "            }\n",
       "        \n",
       "            #T_9ef3bf1e_6941_11e8_b88a_9801a7ce5847row0_col5 {\n",
       "            \n",
       "                background-color:  #ffff66;\n",
       "            \n",
       "            }\n",
       "        \n",
       "            #T_9ef3bf1e_6941_11e8_b88a_9801a7ce5847row0_col6 {\n",
       "            \n",
       "                background-color:  #008066;\n",
       "            \n",
       "            }\n",
       "        \n",
       "            #T_9ef3bf1e_6941_11e8_b88a_9801a7ce5847row0_col7 {\n",
       "            \n",
       "                background-color:  #ffff66;\n",
       "            \n",
       "            }\n",
       "        \n",
       "            #T_9ef3bf1e_6941_11e8_b88a_9801a7ce5847row0_col8 {\n",
       "            \n",
       "                background-color:  #ffff66;\n",
       "            \n",
       "            }\n",
       "        \n",
       "            #T_9ef3bf1e_6941_11e8_b88a_9801a7ce5847row1_col0 {\n",
       "            \n",
       "                background-color:  #008066;\n",
       "            \n",
       "            }\n",
       "        \n",
       "            #T_9ef3bf1e_6941_11e8_b88a_9801a7ce5847row1_col1 {\n",
       "            \n",
       "                background-color:  #ffff66;\n",
       "            \n",
       "            }\n",
       "        \n",
       "            #T_9ef3bf1e_6941_11e8_b88a_9801a7ce5847row1_col2 {\n",
       "            \n",
       "                background-color:  #008066;\n",
       "            \n",
       "            }\n",
       "        \n",
       "            #T_9ef3bf1e_6941_11e8_b88a_9801a7ce5847row1_col3 {\n",
       "            \n",
       "                background-color:  #ffff66;\n",
       "            \n",
       "            }\n",
       "        \n",
       "            #T_9ef3bf1e_6941_11e8_b88a_9801a7ce5847row1_col4 {\n",
       "            \n",
       "                background-color:  #ffff66;\n",
       "            \n",
       "            }\n",
       "        \n",
       "            #T_9ef3bf1e_6941_11e8_b88a_9801a7ce5847row1_col5 {\n",
       "            \n",
       "                background-color:  #008066;\n",
       "            \n",
       "            }\n",
       "        \n",
       "            #T_9ef3bf1e_6941_11e8_b88a_9801a7ce5847row1_col6 {\n",
       "            \n",
       "                background-color:  #ffff66;\n",
       "            \n",
       "            }\n",
       "        \n",
       "            #T_9ef3bf1e_6941_11e8_b88a_9801a7ce5847row1_col7 {\n",
       "            \n",
       "                background-color:  #008066;\n",
       "            \n",
       "            }\n",
       "        \n",
       "            #T_9ef3bf1e_6941_11e8_b88a_9801a7ce5847row1_col8 {\n",
       "            \n",
       "                background-color:  #008066;\n",
       "            \n",
       "            }\n",
       "        \n",
       "        </style>\n",
       "\n",
       "        <table id=\"T_9ef3bf1e_6941_11e8_b88a_9801a7ce5847\" None>\n",
       "        \n",
       "\n",
       "        <thead>\n",
       "            \n",
       "            <tr>\n",
       "                \n",
       "                \n",
       "                <th class=\"index_name level0\" >\n",
       "                  Family_size\n",
       "                \n",
       "                \n",
       "                \n",
       "                <th class=\"col_heading level0 col0\" colspan=1>\n",
       "                  1\n",
       "                \n",
       "                \n",
       "                \n",
       "                <th class=\"col_heading level0 col1\" colspan=1>\n",
       "                  2\n",
       "                \n",
       "                \n",
       "                \n",
       "                <th class=\"col_heading level0 col2\" colspan=1>\n",
       "                  3\n",
       "                \n",
       "                \n",
       "                \n",
       "                <th class=\"col_heading level0 col3\" colspan=1>\n",
       "                  4\n",
       "                \n",
       "                \n",
       "                \n",
       "                <th class=\"col_heading level0 col4\" colspan=1>\n",
       "                  5\n",
       "                \n",
       "                \n",
       "                \n",
       "                <th class=\"col_heading level0 col5\" colspan=1>\n",
       "                  6\n",
       "                \n",
       "                \n",
       "                \n",
       "                <th class=\"col_heading level0 col6\" colspan=1>\n",
       "                  7\n",
       "                \n",
       "                \n",
       "                \n",
       "                <th class=\"col_heading level0 col7\" colspan=1>\n",
       "                  8\n",
       "                \n",
       "                \n",
       "                \n",
       "                <th class=\"col_heading level0 col8\" colspan=1>\n",
       "                  11\n",
       "                \n",
       "                \n",
       "            </tr>\n",
       "            \n",
       "            <tr>\n",
       "                \n",
       "                \n",
       "                <th class=\"index_name level0\" >\n",
       "                  Sex\n",
       "                \n",
       "                \n",
       "                \n",
       "                <th class=\"blank\" >\n",
       "                  \n",
       "                \n",
       "                \n",
       "                \n",
       "                <th class=\"blank\" >\n",
       "                  \n",
       "                \n",
       "                \n",
       "                \n",
       "                <th class=\"blank\" >\n",
       "                  \n",
       "                \n",
       "                \n",
       "                \n",
       "                <th class=\"blank\" >\n",
       "                  \n",
       "                \n",
       "                \n",
       "                \n",
       "                <th class=\"blank\" >\n",
       "                  \n",
       "                \n",
       "                \n",
       "                \n",
       "                <th class=\"blank\" >\n",
       "                  \n",
       "                \n",
       "                \n",
       "                \n",
       "                <th class=\"blank\" >\n",
       "                  \n",
       "                \n",
       "                \n",
       "                \n",
       "                <th class=\"blank\" >\n",
       "                  \n",
       "                \n",
       "                \n",
       "                \n",
       "                <th class=\"blank\" >\n",
       "                  \n",
       "                \n",
       "                \n",
       "            </tr>\n",
       "            \n",
       "        </thead>\n",
       "        <tbody>\n",
       "            \n",
       "            <tr>\n",
       "                \n",
       "                \n",
       "                <th id=\"T_9ef3bf1e_6941_11e8_b88a_9801a7ce5847\"\n",
       "                 class=\"row_heading level0 row0\" rowspan=1>\n",
       "                    female\n",
       "                \n",
       "                \n",
       "                \n",
       "                <td id=\"T_9ef3bf1e_6941_11e8_b88a_9801a7ce5847row0_col0\"\n",
       "                 class=\"data row0 col0\" >\n",
       "                    194\n",
       "                \n",
       "                \n",
       "                \n",
       "                <td id=\"T_9ef3bf1e_6941_11e8_b88a_9801a7ce5847row0_col1\"\n",
       "                 class=\"data row0 col1\" >\n",
       "                    123\n",
       "                \n",
       "                \n",
       "                \n",
       "                <td id=\"T_9ef3bf1e_6941_11e8_b88a_9801a7ce5847row0_col2\"\n",
       "                 class=\"data row0 col2\" >\n",
       "                    79\n",
       "                \n",
       "                \n",
       "                \n",
       "                <td id=\"T_9ef3bf1e_6941_11e8_b88a_9801a7ce5847row0_col3\"\n",
       "                 class=\"data row0 col3\" >\n",
       "                    29\n",
       "                \n",
       "                \n",
       "                \n",
       "                <td id=\"T_9ef3bf1e_6941_11e8_b88a_9801a7ce5847row0_col4\"\n",
       "                 class=\"data row0 col4\" >\n",
       "                    14\n",
       "                \n",
       "                \n",
       "                \n",
       "                <td id=\"T_9ef3bf1e_6941_11e8_b88a_9801a7ce5847row0_col5\"\n",
       "                 class=\"data row0 col5\" >\n",
       "                    10\n",
       "                \n",
       "                \n",
       "                \n",
       "                <td id=\"T_9ef3bf1e_6941_11e8_b88a_9801a7ce5847row0_col6\"\n",
       "                 class=\"data row0 col6\" >\n",
       "                    9\n",
       "                \n",
       "                \n",
       "                \n",
       "                <td id=\"T_9ef3bf1e_6941_11e8_b88a_9801a7ce5847row0_col7\"\n",
       "                 class=\"data row0 col7\" >\n",
       "                    3\n",
       "                \n",
       "                \n",
       "                \n",
       "                <td id=\"T_9ef3bf1e_6941_11e8_b88a_9801a7ce5847row0_col8\"\n",
       "                 class=\"data row0 col8\" >\n",
       "                    5\n",
       "                \n",
       "                \n",
       "            </tr>\n",
       "            \n",
       "            <tr>\n",
       "                \n",
       "                \n",
       "                <th id=\"T_9ef3bf1e_6941_11e8_b88a_9801a7ce5847\"\n",
       "                 class=\"row_heading level0 row1\" rowspan=1>\n",
       "                    male\n",
       "                \n",
       "                \n",
       "                \n",
       "                <td id=\"T_9ef3bf1e_6941_11e8_b88a_9801a7ce5847row1_col0\"\n",
       "                 class=\"data row1 col0\" >\n",
       "                    596\n",
       "                \n",
       "                \n",
       "                \n",
       "                <td id=\"T_9ef3bf1e_6941_11e8_b88a_9801a7ce5847row1_col1\"\n",
       "                 class=\"data row1 col1\" >\n",
       "                    112\n",
       "                \n",
       "                \n",
       "                \n",
       "                <td id=\"T_9ef3bf1e_6941_11e8_b88a_9801a7ce5847row1_col2\"\n",
       "                 class=\"data row1 col2\" >\n",
       "                    80\n",
       "                \n",
       "                \n",
       "                \n",
       "                <td id=\"T_9ef3bf1e_6941_11e8_b88a_9801a7ce5847row1_col3\"\n",
       "                 class=\"data row1 col3\" >\n",
       "                    14\n",
       "                \n",
       "                \n",
       "                \n",
       "                <td id=\"T_9ef3bf1e_6941_11e8_b88a_9801a7ce5847row1_col4\"\n",
       "                 class=\"data row1 col4\" >\n",
       "                    8\n",
       "                \n",
       "                \n",
       "                \n",
       "                <td id=\"T_9ef3bf1e_6941_11e8_b88a_9801a7ce5847row1_col5\"\n",
       "                 class=\"data row1 col5\" >\n",
       "                    15\n",
       "                \n",
       "                \n",
       "                \n",
       "                <td id=\"T_9ef3bf1e_6941_11e8_b88a_9801a7ce5847row1_col6\"\n",
       "                 class=\"data row1 col6\" >\n",
       "                    7\n",
       "                \n",
       "                \n",
       "                \n",
       "                <td id=\"T_9ef3bf1e_6941_11e8_b88a_9801a7ce5847row1_col7\"\n",
       "                 class=\"data row1 col7\" >\n",
       "                    5\n",
       "                \n",
       "                \n",
       "                \n",
       "                <td id=\"T_9ef3bf1e_6941_11e8_b88a_9801a7ce5847row1_col8\"\n",
       "                 class=\"data row1 col8\" >\n",
       "                    6\n",
       "                \n",
       "                \n",
       "            </tr>\n",
       "            \n",
       "        </tbody>\n",
       "        </table>\n",
       "        "
      ],
      "text/plain": [
       "<pandas.formats.style.Styler at 0x11c8f0d68>"
      ]
     },
     "execution_count": 30,
     "metadata": {},
     "output_type": "execute_result"
    }
   ],
   "source": [
    "pd.crosstab(all_data['Family_size'], all_data['Sex']).T.style.background_gradient(cmap='summer_r')"
   ]
  },
  {
   "cell_type": "markdown",
   "metadata": {},
   "source": [
    "## 7. Title"
   ]
  },
  {
   "cell_type": "markdown",
   "metadata": {},
   "source": [
    "### put all Title into 4 Category- Master, Miss, Mr and Mrs. Mr has less 20% to survived, others hv more than 60% to survived"
   ]
  },
  {
   "cell_type": "code",
   "execution_count": 31,
   "metadata": {
    "collapsed": false
   },
   "outputs": [],
   "source": [
    "all_data['Title'] = all_data['Name'].map(lambda x: x.split(', ')[1].split('.')[0])"
   ]
  },
  {
   "cell_type": "code",
   "execution_count": 32,
   "metadata": {
    "collapsed": false
   },
   "outputs": [
    {
     "name": "stdout",
     "output_type": "stream",
     "text": [
      "['Mr' 'Mrs' 'Miss' 'Master' 'Don' 'Rev' 'Dr' 'Mme' 'Ms' 'Major' 'Lady'\n",
      " 'Sir' 'Mlle' 'Col' 'Capt' 'the Countess' 'Jonkheer' 'Dona']\n",
      "Mr              757\n",
      "Miss            260\n",
      "Mrs             197\n",
      "Master           61\n",
      "Dr                8\n",
      "Rev               8\n",
      "Col               4\n",
      "Mlle              2\n",
      "Ms                2\n",
      "Major             2\n",
      "Lady              1\n",
      "Capt              1\n",
      "Jonkheer          1\n",
      "Don               1\n",
      "Mme               1\n",
      "the Countess      1\n",
      "Dona              1\n",
      "Sir               1\n",
      "Name: Title, dtype: int64\n"
     ]
    }
   ],
   "source": [
    "print (all_data['Title'].unique())\n",
    "print (all_data['Title'].value_counts())"
   ]
  },
  {
   "cell_type": "code",
   "execution_count": 33,
   "metadata": {
    "collapsed": false
   },
   "outputs": [
    {
     "data": {
      "text/html": [
       "\n",
       "        <style  type=\"text/css\" >\n",
       "        \n",
       "        \n",
       "            #T_b21b4ec2_6941_11e8_86b9_9801a7ce5847row0_col0 {\n",
       "            \n",
       "                background-color:  #ffff66;\n",
       "            \n",
       "            }\n",
       "        \n",
       "            #T_b21b4ec2_6941_11e8_86b9_9801a7ce5847row0_col1 {\n",
       "            \n",
       "                background-color:  #ffff66;\n",
       "            \n",
       "            }\n",
       "        \n",
       "            #T_b21b4ec2_6941_11e8_86b9_9801a7ce5847row0_col2 {\n",
       "            \n",
       "                background-color:  #ffff66;\n",
       "            \n",
       "            }\n",
       "        \n",
       "            #T_b21b4ec2_6941_11e8_86b9_9801a7ce5847row0_col3 {\n",
       "            \n",
       "                background-color:  #008066;\n",
       "            \n",
       "            }\n",
       "        \n",
       "            #T_b21b4ec2_6941_11e8_86b9_9801a7ce5847row0_col4 {\n",
       "            \n",
       "                background-color:  #ffff66;\n",
       "            \n",
       "            }\n",
       "        \n",
       "            #T_b21b4ec2_6941_11e8_86b9_9801a7ce5847row0_col5 {\n",
       "            \n",
       "                background-color:  #ffff66;\n",
       "            \n",
       "            }\n",
       "        \n",
       "            #T_b21b4ec2_6941_11e8_86b9_9801a7ce5847row0_col6 {\n",
       "            \n",
       "                background-color:  #008066;\n",
       "            \n",
       "            }\n",
       "        \n",
       "            #T_b21b4ec2_6941_11e8_86b9_9801a7ce5847row0_col7 {\n",
       "            \n",
       "                background-color:  #ffff66;\n",
       "            \n",
       "            }\n",
       "        \n",
       "            #T_b21b4ec2_6941_11e8_86b9_9801a7ce5847row0_col8 {\n",
       "            \n",
       "                background-color:  #ffff66;\n",
       "            \n",
       "            }\n",
       "        \n",
       "            #T_b21b4ec2_6941_11e8_86b9_9801a7ce5847row0_col9 {\n",
       "            \n",
       "                background-color:  #008066;\n",
       "            \n",
       "            }\n",
       "        \n",
       "            #T_b21b4ec2_6941_11e8_86b9_9801a7ce5847row0_col10 {\n",
       "            \n",
       "                background-color:  #008066;\n",
       "            \n",
       "            }\n",
       "        \n",
       "            #T_b21b4ec2_6941_11e8_86b9_9801a7ce5847row0_col11 {\n",
       "            \n",
       "                background-color:  #008066;\n",
       "            \n",
       "            }\n",
       "        \n",
       "            #T_b21b4ec2_6941_11e8_86b9_9801a7ce5847row0_col12 {\n",
       "            \n",
       "                background-color:  #ffff66;\n",
       "            \n",
       "            }\n",
       "        \n",
       "            #T_b21b4ec2_6941_11e8_86b9_9801a7ce5847row0_col13 {\n",
       "            \n",
       "                background-color:  #008066;\n",
       "            \n",
       "            }\n",
       "        \n",
       "            #T_b21b4ec2_6941_11e8_86b9_9801a7ce5847row0_col14 {\n",
       "            \n",
       "                background-color:  #008066;\n",
       "            \n",
       "            }\n",
       "        \n",
       "            #T_b21b4ec2_6941_11e8_86b9_9801a7ce5847row0_col15 {\n",
       "            \n",
       "                background-color:  #ffff66;\n",
       "            \n",
       "            }\n",
       "        \n",
       "            #T_b21b4ec2_6941_11e8_86b9_9801a7ce5847row0_col16 {\n",
       "            \n",
       "                background-color:  #ffff66;\n",
       "            \n",
       "            }\n",
       "        \n",
       "            #T_b21b4ec2_6941_11e8_86b9_9801a7ce5847row0_col17 {\n",
       "            \n",
       "                background-color:  #008066;\n",
       "            \n",
       "            }\n",
       "        \n",
       "            #T_b21b4ec2_6941_11e8_86b9_9801a7ce5847row1_col0 {\n",
       "            \n",
       "                background-color:  #008066;\n",
       "            \n",
       "            }\n",
       "        \n",
       "            #T_b21b4ec2_6941_11e8_86b9_9801a7ce5847row1_col1 {\n",
       "            \n",
       "                background-color:  #008066;\n",
       "            \n",
       "            }\n",
       "        \n",
       "            #T_b21b4ec2_6941_11e8_86b9_9801a7ce5847row1_col2 {\n",
       "            \n",
       "                background-color:  #008066;\n",
       "            \n",
       "            }\n",
       "        \n",
       "            #T_b21b4ec2_6941_11e8_86b9_9801a7ce5847row1_col3 {\n",
       "            \n",
       "                background-color:  #ffff66;\n",
       "            \n",
       "            }\n",
       "        \n",
       "            #T_b21b4ec2_6941_11e8_86b9_9801a7ce5847row1_col4 {\n",
       "            \n",
       "                background-color:  #008066;\n",
       "            \n",
       "            }\n",
       "        \n",
       "            #T_b21b4ec2_6941_11e8_86b9_9801a7ce5847row1_col5 {\n",
       "            \n",
       "                background-color:  #008066;\n",
       "            \n",
       "            }\n",
       "        \n",
       "            #T_b21b4ec2_6941_11e8_86b9_9801a7ce5847row1_col6 {\n",
       "            \n",
       "                background-color:  #ffff66;\n",
       "            \n",
       "            }\n",
       "        \n",
       "            #T_b21b4ec2_6941_11e8_86b9_9801a7ce5847row1_col7 {\n",
       "            \n",
       "                background-color:  #008066;\n",
       "            \n",
       "            }\n",
       "        \n",
       "            #T_b21b4ec2_6941_11e8_86b9_9801a7ce5847row1_col8 {\n",
       "            \n",
       "                background-color:  #008066;\n",
       "            \n",
       "            }\n",
       "        \n",
       "            #T_b21b4ec2_6941_11e8_86b9_9801a7ce5847row1_col9 {\n",
       "            \n",
       "                background-color:  #ffff66;\n",
       "            \n",
       "            }\n",
       "        \n",
       "            #T_b21b4ec2_6941_11e8_86b9_9801a7ce5847row1_col10 {\n",
       "            \n",
       "                background-color:  #ffff66;\n",
       "            \n",
       "            }\n",
       "        \n",
       "            #T_b21b4ec2_6941_11e8_86b9_9801a7ce5847row1_col11 {\n",
       "            \n",
       "                background-color:  #ffff66;\n",
       "            \n",
       "            }\n",
       "        \n",
       "            #T_b21b4ec2_6941_11e8_86b9_9801a7ce5847row1_col12 {\n",
       "            \n",
       "                background-color:  #008066;\n",
       "            \n",
       "            }\n",
       "        \n",
       "            #T_b21b4ec2_6941_11e8_86b9_9801a7ce5847row1_col13 {\n",
       "            \n",
       "                background-color:  #ffff66;\n",
       "            \n",
       "            }\n",
       "        \n",
       "            #T_b21b4ec2_6941_11e8_86b9_9801a7ce5847row1_col14 {\n",
       "            \n",
       "                background-color:  #ffff66;\n",
       "            \n",
       "            }\n",
       "        \n",
       "            #T_b21b4ec2_6941_11e8_86b9_9801a7ce5847row1_col15 {\n",
       "            \n",
       "                background-color:  #008066;\n",
       "            \n",
       "            }\n",
       "        \n",
       "            #T_b21b4ec2_6941_11e8_86b9_9801a7ce5847row1_col16 {\n",
       "            \n",
       "                background-color:  #008066;\n",
       "            \n",
       "            }\n",
       "        \n",
       "            #T_b21b4ec2_6941_11e8_86b9_9801a7ce5847row1_col17 {\n",
       "            \n",
       "                background-color:  #ffff66;\n",
       "            \n",
       "            }\n",
       "        \n",
       "        </style>\n",
       "\n",
       "        <table id=\"T_b21b4ec2_6941_11e8_86b9_9801a7ce5847\" None>\n",
       "        \n",
       "\n",
       "        <thead>\n",
       "            \n",
       "            <tr>\n",
       "                \n",
       "                \n",
       "                <th class=\"index_name level0\" >\n",
       "                  Title\n",
       "                \n",
       "                \n",
       "                \n",
       "                <th class=\"col_heading level0 col0\" colspan=1>\n",
       "                  Capt\n",
       "                \n",
       "                \n",
       "                \n",
       "                <th class=\"col_heading level0 col1\" colspan=1>\n",
       "                  Col\n",
       "                \n",
       "                \n",
       "                \n",
       "                <th class=\"col_heading level0 col2\" colspan=1>\n",
       "                  Don\n",
       "                \n",
       "                \n",
       "                \n",
       "                <th class=\"col_heading level0 col3\" colspan=1>\n",
       "                  Dona\n",
       "                \n",
       "                \n",
       "                \n",
       "                <th class=\"col_heading level0 col4\" colspan=1>\n",
       "                  Dr\n",
       "                \n",
       "                \n",
       "                \n",
       "                <th class=\"col_heading level0 col5\" colspan=1>\n",
       "                  Jonkheer\n",
       "                \n",
       "                \n",
       "                \n",
       "                <th class=\"col_heading level0 col6\" colspan=1>\n",
       "                  Lady\n",
       "                \n",
       "                \n",
       "                \n",
       "                <th class=\"col_heading level0 col7\" colspan=1>\n",
       "                  Major\n",
       "                \n",
       "                \n",
       "                \n",
       "                <th class=\"col_heading level0 col8\" colspan=1>\n",
       "                  Master\n",
       "                \n",
       "                \n",
       "                \n",
       "                <th class=\"col_heading level0 col9\" colspan=1>\n",
       "                  Miss\n",
       "                \n",
       "                \n",
       "                \n",
       "                <th class=\"col_heading level0 col10\" colspan=1>\n",
       "                  Mlle\n",
       "                \n",
       "                \n",
       "                \n",
       "                <th class=\"col_heading level0 col11\" colspan=1>\n",
       "                  Mme\n",
       "                \n",
       "                \n",
       "                \n",
       "                <th class=\"col_heading level0 col12\" colspan=1>\n",
       "                  Mr\n",
       "                \n",
       "                \n",
       "                \n",
       "                <th class=\"col_heading level0 col13\" colspan=1>\n",
       "                  Mrs\n",
       "                \n",
       "                \n",
       "                \n",
       "                <th class=\"col_heading level0 col14\" colspan=1>\n",
       "                  Ms\n",
       "                \n",
       "                \n",
       "                \n",
       "                <th class=\"col_heading level0 col15\" colspan=1>\n",
       "                  Rev\n",
       "                \n",
       "                \n",
       "                \n",
       "                <th class=\"col_heading level0 col16\" colspan=1>\n",
       "                  Sir\n",
       "                \n",
       "                \n",
       "                \n",
       "                <th class=\"col_heading level0 col17\" colspan=1>\n",
       "                  the Countess\n",
       "                \n",
       "                \n",
       "            </tr>\n",
       "            \n",
       "            <tr>\n",
       "                \n",
       "                \n",
       "                <th class=\"index_name level0\" >\n",
       "                  Sex\n",
       "                \n",
       "                \n",
       "                \n",
       "                <th class=\"blank\" >\n",
       "                  \n",
       "                \n",
       "                \n",
       "                \n",
       "                <th class=\"blank\" >\n",
       "                  \n",
       "                \n",
       "                \n",
       "                \n",
       "                <th class=\"blank\" >\n",
       "                  \n",
       "                \n",
       "                \n",
       "                \n",
       "                <th class=\"blank\" >\n",
       "                  \n",
       "                \n",
       "                \n",
       "                \n",
       "                <th class=\"blank\" >\n",
       "                  \n",
       "                \n",
       "                \n",
       "                \n",
       "                <th class=\"blank\" >\n",
       "                  \n",
       "                \n",
       "                \n",
       "                \n",
       "                <th class=\"blank\" >\n",
       "                  \n",
       "                \n",
       "                \n",
       "                \n",
       "                <th class=\"blank\" >\n",
       "                  \n",
       "                \n",
       "                \n",
       "                \n",
       "                <th class=\"blank\" >\n",
       "                  \n",
       "                \n",
       "                \n",
       "                \n",
       "                <th class=\"blank\" >\n",
       "                  \n",
       "                \n",
       "                \n",
       "                \n",
       "                <th class=\"blank\" >\n",
       "                  \n",
       "                \n",
       "                \n",
       "                \n",
       "                <th class=\"blank\" >\n",
       "                  \n",
       "                \n",
       "                \n",
       "                \n",
       "                <th class=\"blank\" >\n",
       "                  \n",
       "                \n",
       "                \n",
       "                \n",
       "                <th class=\"blank\" >\n",
       "                  \n",
       "                \n",
       "                \n",
       "                \n",
       "                <th class=\"blank\" >\n",
       "                  \n",
       "                \n",
       "                \n",
       "                \n",
       "                <th class=\"blank\" >\n",
       "                  \n",
       "                \n",
       "                \n",
       "                \n",
       "                <th class=\"blank\" >\n",
       "                  \n",
       "                \n",
       "                \n",
       "                \n",
       "                <th class=\"blank\" >\n",
       "                  \n",
       "                \n",
       "                \n",
       "            </tr>\n",
       "            \n",
       "        </thead>\n",
       "        <tbody>\n",
       "            \n",
       "            <tr>\n",
       "                \n",
       "                \n",
       "                <th id=\"T_b21b4ec2_6941_11e8_86b9_9801a7ce5847\"\n",
       "                 class=\"row_heading level0 row0\" rowspan=1>\n",
       "                    female\n",
       "                \n",
       "                \n",
       "                \n",
       "                <td id=\"T_b21b4ec2_6941_11e8_86b9_9801a7ce5847row0_col0\"\n",
       "                 class=\"data row0 col0\" >\n",
       "                    0\n",
       "                \n",
       "                \n",
       "                \n",
       "                <td id=\"T_b21b4ec2_6941_11e8_86b9_9801a7ce5847row0_col1\"\n",
       "                 class=\"data row0 col1\" >\n",
       "                    0\n",
       "                \n",
       "                \n",
       "                \n",
       "                <td id=\"T_b21b4ec2_6941_11e8_86b9_9801a7ce5847row0_col2\"\n",
       "                 class=\"data row0 col2\" >\n",
       "                    0\n",
       "                \n",
       "                \n",
       "                \n",
       "                <td id=\"T_b21b4ec2_6941_11e8_86b9_9801a7ce5847row0_col3\"\n",
       "                 class=\"data row0 col3\" >\n",
       "                    1\n",
       "                \n",
       "                \n",
       "                \n",
       "                <td id=\"T_b21b4ec2_6941_11e8_86b9_9801a7ce5847row0_col4\"\n",
       "                 class=\"data row0 col4\" >\n",
       "                    1\n",
       "                \n",
       "                \n",
       "                \n",
       "                <td id=\"T_b21b4ec2_6941_11e8_86b9_9801a7ce5847row0_col5\"\n",
       "                 class=\"data row0 col5\" >\n",
       "                    0\n",
       "                \n",
       "                \n",
       "                \n",
       "                <td id=\"T_b21b4ec2_6941_11e8_86b9_9801a7ce5847row0_col6\"\n",
       "                 class=\"data row0 col6\" >\n",
       "                    1\n",
       "                \n",
       "                \n",
       "                \n",
       "                <td id=\"T_b21b4ec2_6941_11e8_86b9_9801a7ce5847row0_col7\"\n",
       "                 class=\"data row0 col7\" >\n",
       "                    0\n",
       "                \n",
       "                \n",
       "                \n",
       "                <td id=\"T_b21b4ec2_6941_11e8_86b9_9801a7ce5847row0_col8\"\n",
       "                 class=\"data row0 col8\" >\n",
       "                    0\n",
       "                \n",
       "                \n",
       "                \n",
       "                <td id=\"T_b21b4ec2_6941_11e8_86b9_9801a7ce5847row0_col9\"\n",
       "                 class=\"data row0 col9\" >\n",
       "                    260\n",
       "                \n",
       "                \n",
       "                \n",
       "                <td id=\"T_b21b4ec2_6941_11e8_86b9_9801a7ce5847row0_col10\"\n",
       "                 class=\"data row0 col10\" >\n",
       "                    2\n",
       "                \n",
       "                \n",
       "                \n",
       "                <td id=\"T_b21b4ec2_6941_11e8_86b9_9801a7ce5847row0_col11\"\n",
       "                 class=\"data row0 col11\" >\n",
       "                    1\n",
       "                \n",
       "                \n",
       "                \n",
       "                <td id=\"T_b21b4ec2_6941_11e8_86b9_9801a7ce5847row0_col12\"\n",
       "                 class=\"data row0 col12\" >\n",
       "                    0\n",
       "                \n",
       "                \n",
       "                \n",
       "                <td id=\"T_b21b4ec2_6941_11e8_86b9_9801a7ce5847row0_col13\"\n",
       "                 class=\"data row0 col13\" >\n",
       "                    197\n",
       "                \n",
       "                \n",
       "                \n",
       "                <td id=\"T_b21b4ec2_6941_11e8_86b9_9801a7ce5847row0_col14\"\n",
       "                 class=\"data row0 col14\" >\n",
       "                    2\n",
       "                \n",
       "                \n",
       "                \n",
       "                <td id=\"T_b21b4ec2_6941_11e8_86b9_9801a7ce5847row0_col15\"\n",
       "                 class=\"data row0 col15\" >\n",
       "                    0\n",
       "                \n",
       "                \n",
       "                \n",
       "                <td id=\"T_b21b4ec2_6941_11e8_86b9_9801a7ce5847row0_col16\"\n",
       "                 class=\"data row0 col16\" >\n",
       "                    0\n",
       "                \n",
       "                \n",
       "                \n",
       "                <td id=\"T_b21b4ec2_6941_11e8_86b9_9801a7ce5847row0_col17\"\n",
       "                 class=\"data row0 col17\" >\n",
       "                    1\n",
       "                \n",
       "                \n",
       "            </tr>\n",
       "            \n",
       "            <tr>\n",
       "                \n",
       "                \n",
       "                <th id=\"T_b21b4ec2_6941_11e8_86b9_9801a7ce5847\"\n",
       "                 class=\"row_heading level0 row1\" rowspan=1>\n",
       "                    male\n",
       "                \n",
       "                \n",
       "                \n",
       "                <td id=\"T_b21b4ec2_6941_11e8_86b9_9801a7ce5847row1_col0\"\n",
       "                 class=\"data row1 col0\" >\n",
       "                    1\n",
       "                \n",
       "                \n",
       "                \n",
       "                <td id=\"T_b21b4ec2_6941_11e8_86b9_9801a7ce5847row1_col1\"\n",
       "                 class=\"data row1 col1\" >\n",
       "                    4\n",
       "                \n",
       "                \n",
       "                \n",
       "                <td id=\"T_b21b4ec2_6941_11e8_86b9_9801a7ce5847row1_col2\"\n",
       "                 class=\"data row1 col2\" >\n",
       "                    1\n",
       "                \n",
       "                \n",
       "                \n",
       "                <td id=\"T_b21b4ec2_6941_11e8_86b9_9801a7ce5847row1_col3\"\n",
       "                 class=\"data row1 col3\" >\n",
       "                    0\n",
       "                \n",
       "                \n",
       "                \n",
       "                <td id=\"T_b21b4ec2_6941_11e8_86b9_9801a7ce5847row1_col4\"\n",
       "                 class=\"data row1 col4\" >\n",
       "                    7\n",
       "                \n",
       "                \n",
       "                \n",
       "                <td id=\"T_b21b4ec2_6941_11e8_86b9_9801a7ce5847row1_col5\"\n",
       "                 class=\"data row1 col5\" >\n",
       "                    1\n",
       "                \n",
       "                \n",
       "                \n",
       "                <td id=\"T_b21b4ec2_6941_11e8_86b9_9801a7ce5847row1_col6\"\n",
       "                 class=\"data row1 col6\" >\n",
       "                    0\n",
       "                \n",
       "                \n",
       "                \n",
       "                <td id=\"T_b21b4ec2_6941_11e8_86b9_9801a7ce5847row1_col7\"\n",
       "                 class=\"data row1 col7\" >\n",
       "                    2\n",
       "                \n",
       "                \n",
       "                \n",
       "                <td id=\"T_b21b4ec2_6941_11e8_86b9_9801a7ce5847row1_col8\"\n",
       "                 class=\"data row1 col8\" >\n",
       "                    61\n",
       "                \n",
       "                \n",
       "                \n",
       "                <td id=\"T_b21b4ec2_6941_11e8_86b9_9801a7ce5847row1_col9\"\n",
       "                 class=\"data row1 col9\" >\n",
       "                    0\n",
       "                \n",
       "                \n",
       "                \n",
       "                <td id=\"T_b21b4ec2_6941_11e8_86b9_9801a7ce5847row1_col10\"\n",
       "                 class=\"data row1 col10\" >\n",
       "                    0\n",
       "                \n",
       "                \n",
       "                \n",
       "                <td id=\"T_b21b4ec2_6941_11e8_86b9_9801a7ce5847row1_col11\"\n",
       "                 class=\"data row1 col11\" >\n",
       "                    0\n",
       "                \n",
       "                \n",
       "                \n",
       "                <td id=\"T_b21b4ec2_6941_11e8_86b9_9801a7ce5847row1_col12\"\n",
       "                 class=\"data row1 col12\" >\n",
       "                    757\n",
       "                \n",
       "                \n",
       "                \n",
       "                <td id=\"T_b21b4ec2_6941_11e8_86b9_9801a7ce5847row1_col13\"\n",
       "                 class=\"data row1 col13\" >\n",
       "                    0\n",
       "                \n",
       "                \n",
       "                \n",
       "                <td id=\"T_b21b4ec2_6941_11e8_86b9_9801a7ce5847row1_col14\"\n",
       "                 class=\"data row1 col14\" >\n",
       "                    0\n",
       "                \n",
       "                \n",
       "                \n",
       "                <td id=\"T_b21b4ec2_6941_11e8_86b9_9801a7ce5847row1_col15\"\n",
       "                 class=\"data row1 col15\" >\n",
       "                    8\n",
       "                \n",
       "                \n",
       "                \n",
       "                <td id=\"T_b21b4ec2_6941_11e8_86b9_9801a7ce5847row1_col16\"\n",
       "                 class=\"data row1 col16\" >\n",
       "                    1\n",
       "                \n",
       "                \n",
       "                \n",
       "                <td id=\"T_b21b4ec2_6941_11e8_86b9_9801a7ce5847row1_col17\"\n",
       "                 class=\"data row1 col17\" >\n",
       "                    0\n",
       "                \n",
       "                \n",
       "            </tr>\n",
       "            \n",
       "        </tbody>\n",
       "        </table>\n",
       "        "
      ],
      "text/plain": [
       "<pandas.formats.style.Styler at 0x11cd77e10>"
      ]
     },
     "execution_count": 33,
     "metadata": {},
     "output_type": "execute_result"
    }
   ],
   "source": [
    "pd.crosstab(all_data['Title'], all_data['Sex']).T.style.background_gradient(cmap='summer_r')"
   ]
  },
  {
   "cell_type": "code",
   "execution_count": 34,
   "metadata": {
    "collapsed": false
   },
   "outputs": [
    {
     "data": {
      "text/html": [
       "\n",
       "        <style  type=\"text/css\" >\n",
       "        \n",
       "        \n",
       "            #T_b3823730_6941_11e8_841f_9801a7ce5847row0_col0 {\n",
       "            \n",
       "                background-color:  #ffff66;\n",
       "            \n",
       "            }\n",
       "        \n",
       "            #T_b3823730_6941_11e8_841f_9801a7ce5847row0_col1 {\n",
       "            \n",
       "                background-color:  #008066;\n",
       "            \n",
       "            }\n",
       "        \n",
       "            #T_b3823730_6941_11e8_841f_9801a7ce5847row0_col2 {\n",
       "            \n",
       "                background-color:  #ffff66;\n",
       "            \n",
       "            }\n",
       "        \n",
       "            #T_b3823730_6941_11e8_841f_9801a7ce5847row0_col3 {\n",
       "            \n",
       "                background-color:  #008066;\n",
       "            \n",
       "            }\n",
       "        \n",
       "            #T_b3823730_6941_11e8_841f_9801a7ce5847row1_col0 {\n",
       "            \n",
       "                background-color:  #008066;\n",
       "            \n",
       "            }\n",
       "        \n",
       "            #T_b3823730_6941_11e8_841f_9801a7ce5847row1_col1 {\n",
       "            \n",
       "                background-color:  #ffff66;\n",
       "            \n",
       "            }\n",
       "        \n",
       "            #T_b3823730_6941_11e8_841f_9801a7ce5847row1_col2 {\n",
       "            \n",
       "                background-color:  #008066;\n",
       "            \n",
       "            }\n",
       "        \n",
       "            #T_b3823730_6941_11e8_841f_9801a7ce5847row1_col3 {\n",
       "            \n",
       "                background-color:  #ffff66;\n",
       "            \n",
       "            }\n",
       "        \n",
       "        </style>\n",
       "\n",
       "        <table id=\"T_b3823730_6941_11e8_841f_9801a7ce5847\" None>\n",
       "        \n",
       "\n",
       "        <thead>\n",
       "            \n",
       "            <tr>\n",
       "                \n",
       "                \n",
       "                <th class=\"index_name level0\" >\n",
       "                  Title\n",
       "                \n",
       "                \n",
       "                \n",
       "                <th class=\"col_heading level0 col0\" colspan=1>\n",
       "                  Master\n",
       "                \n",
       "                \n",
       "                \n",
       "                <th class=\"col_heading level0 col1\" colspan=1>\n",
       "                  Miss\n",
       "                \n",
       "                \n",
       "                \n",
       "                <th class=\"col_heading level0 col2\" colspan=1>\n",
       "                  Mr\n",
       "                \n",
       "                \n",
       "                \n",
       "                <th class=\"col_heading level0 col3\" colspan=1>\n",
       "                  Mrs\n",
       "                \n",
       "                \n",
       "            </tr>\n",
       "            \n",
       "            <tr>\n",
       "                \n",
       "                \n",
       "                <th class=\"index_name level0\" >\n",
       "                  Sex\n",
       "                \n",
       "                \n",
       "                \n",
       "                <th class=\"blank\" >\n",
       "                  \n",
       "                \n",
       "                \n",
       "                \n",
       "                <th class=\"blank\" >\n",
       "                  \n",
       "                \n",
       "                \n",
       "                \n",
       "                <th class=\"blank\" >\n",
       "                  \n",
       "                \n",
       "                \n",
       "                \n",
       "                <th class=\"blank\" >\n",
       "                  \n",
       "                \n",
       "                \n",
       "            </tr>\n",
       "            \n",
       "        </thead>\n",
       "        <tbody>\n",
       "            \n",
       "            <tr>\n",
       "                \n",
       "                \n",
       "                <th id=\"T_b3823730_6941_11e8_841f_9801a7ce5847\"\n",
       "                 class=\"row_heading level0 row0\" rowspan=1>\n",
       "                    female\n",
       "                \n",
       "                \n",
       "                \n",
       "                <td id=\"T_b3823730_6941_11e8_841f_9801a7ce5847row0_col0\"\n",
       "                 class=\"data row0 col0\" >\n",
       "                    0\n",
       "                \n",
       "                \n",
       "                \n",
       "                <td id=\"T_b3823730_6941_11e8_841f_9801a7ce5847row0_col1\"\n",
       "                 class=\"data row0 col1\" >\n",
       "                    264\n",
       "                \n",
       "                \n",
       "                \n",
       "                <td id=\"T_b3823730_6941_11e8_841f_9801a7ce5847row0_col2\"\n",
       "                 class=\"data row0 col2\" >\n",
       "                    1\n",
       "                \n",
       "                \n",
       "                \n",
       "                <td id=\"T_b3823730_6941_11e8_841f_9801a7ce5847row0_col3\"\n",
       "                 class=\"data row0 col3\" >\n",
       "                    201\n",
       "                \n",
       "                \n",
       "            </tr>\n",
       "            \n",
       "            <tr>\n",
       "                \n",
       "                \n",
       "                <th id=\"T_b3823730_6941_11e8_841f_9801a7ce5847\"\n",
       "                 class=\"row_heading level0 row1\" rowspan=1>\n",
       "                    male\n",
       "                \n",
       "                \n",
       "                \n",
       "                <td id=\"T_b3823730_6941_11e8_841f_9801a7ce5847row1_col0\"\n",
       "                 class=\"data row1 col0\" >\n",
       "                    61\n",
       "                \n",
       "                \n",
       "                \n",
       "                <td id=\"T_b3823730_6941_11e8_841f_9801a7ce5847row1_col1\"\n",
       "                 class=\"data row1 col1\" >\n",
       "                    0\n",
       "                \n",
       "                \n",
       "                \n",
       "                <td id=\"T_b3823730_6941_11e8_841f_9801a7ce5847row1_col2\"\n",
       "                 class=\"data row1 col2\" >\n",
       "                    782\n",
       "                \n",
       "                \n",
       "                \n",
       "                <td id=\"T_b3823730_6941_11e8_841f_9801a7ce5847row1_col3\"\n",
       "                 class=\"data row1 col3\" >\n",
       "                    0\n",
       "                \n",
       "                \n",
       "            </tr>\n",
       "            \n",
       "        </tbody>\n",
       "        </table>\n",
       "        "
      ],
      "text/plain": [
       "<pandas.formats.style.Styler at 0x11cc42c88>"
      ]
     },
     "execution_count": 34,
     "metadata": {},
     "output_type": "execute_result"
    }
   ],
   "source": [
    "all_data['Title'] = all_data['Title'].replace(['Don', 'Rev', 'Dr', 'Mme', 'Ms',\n",
    "       'Major', 'Lady', 'Sir', 'Mlle', 'Col', 'Capt', 'the Countess',\n",
    "       'Jonkheer', 'Dona'], ['Mr', 'Mr', 'Mr', 'Mrs', 'Miss',\n",
    "        'Mr', 'Mrs', 'Mr', 'Miss', 'Mr', 'Mr', 'Mrs', 'Mr', 'Mrs'])\n",
    "pd.crosstab(all_data['Title'], all_data['Sex']).T.style.background_gradient(cmap='summer_r')"
   ]
  },
  {
   "cell_type": "code",
   "execution_count": 35,
   "metadata": {
    "collapsed": false
   },
   "outputs": [
    {
     "data": {
      "text/plain": [
       "<matplotlib.axes._subplots.AxesSubplot at 0x11cd77668>"
      ]
     },
     "execution_count": 35,
     "metadata": {},
     "output_type": "execute_result"
    },
    {
     "data": {
      "image/png": "[encoded data removed]",
      "text/plain": [
       "<matplotlib.figure.Figure at 0x11cc36f28>"
      ]
     },
     "metadata": {},
     "output_type": "display_data"
    }
   ],
   "source": [
    "sns.barplot(x='Title', y='Survived', data=all_data)"
   ]
  },
  {
   "cell_type": "markdown",
   "metadata": {},
   "source": [
    "## 8. Cabin"
   ]
  },
  {
   "cell_type": "code",
   "execution_count": 65,
   "metadata": {
    "collapsed": false
   },
   "outputs": [
    {
     "data": {
      "text/plain": [
       "array(['U', 'C', 'E', 'G', 'D', 'A', 'B', 'F', 'T'], dtype=object)"
      ]
     },
     "execution_count": 65,
     "metadata": {},
     "output_type": "execute_result"
    }
   ],
   "source": [
    "all_data['Cabin'] = all_data['Cabin'].fillna('Unknown')\n",
    "all_data['Deck'] = all_data['Cabin'].apply(lambda x: str(x)[0])\n",
    "all_data['Deck'].unique()"
   ]
  },
  {
   "cell_type": "code",
   "execution_count": 66,
   "metadata": {
    "collapsed": false,
    "scrolled": true
   },
   "outputs": [
    {
     "data": {
      "text/plain": [
       "<matplotlib.axes._subplots.AxesSubplot at 0x11dd94518>"
      ]
     },
     "execution_count": 66,
     "metadata": {},
     "output_type": "execute_result"
    },
    {
     "data": {
      "image/png": "[encoded data removed]",
      "text/plain": [
       "<matplotlib.figure.Figure at 0x11dd074a8>"
      ]
     },
     "metadata": {},
     "output_type": "display_data"
    }
   ],
   "source": [
    "fig, axs = plt.subplots(figsize=(15,5), ncols=3)\n",
    "sns.barplot(x='Deck', y='Survived',data=all_data, palette='Set2', ax=axs[0])\n",
    "sns.barplot(x='Deck', y='Fare',data=all_data, palette='Set2', ax=axs[1])\n",
    "sns.countplot(x='Deck', hue='Pclass', data=all_data, palette='Set2', ax=axs[2])"
   ]
  },
  {
   "cell_type": "code",
   "execution_count": 67,
   "metadata": {
    "collapsed": false
   },
   "outputs": [
    {
     "data": {
      "text/plain": [
       "<seaborn.axisgrid.FacetGrid at 0x11dba0588>"
      ]
     },
     "execution_count": 67,
     "metadata": {},
     "output_type": "execute_result"
    },
    {
     "data": {
      "image/png": "[encoded data removed]",
      "text/plain": [
       "<matplotlib.figure.Figure at 0x11dc723c8>"
      ]
     },
     "metadata": {},
     "output_type": "display_data"
    }
   ],
   "source": [
    "#sns.barplot(x='Deck', y='f_class3',data=all_data,palette='Set2')\n",
    "sns.factorplot(x='Deck', hue='Sex', col='Survived', data=all_data, kind='count')"
   ]
  },
  {
   "cell_type": "code",
   "execution_count": null,
   "metadata": {
    "collapsed": false
   },
   "outputs": [],
   "source": []
  },
  {
   "cell_type": "markdown",
   "metadata": {},
   "source": [
    "## 9. Embarked"
   ]
  },
  {
   "cell_type": "markdown",
   "metadata": {},
   "source": [
    "### embarked from C = Cherbourg has most chance to survived"
   ]
  },
  {
   "cell_type": "code",
   "execution_count": 39,
   "metadata": {
    "collapsed": false
   },
   "outputs": [
    {
     "data": {
      "text/plain": [
       "<seaborn.axisgrid.FacetGrid at 0x11cdb3908>"
      ]
     },
     "execution_count": 39,
     "metadata": {},
     "output_type": "execute_result"
    },
    {
     "data": {
      "image/png": "[encoded data removed]",
      "text/plain": [
       "<matplotlib.figure.Figure at 0x11cdc20b8>"
      ]
     },
     "metadata": {},
     "output_type": "display_data"
    }
   ],
   "source": [
    "sns.factorplot('Embarked', 'Survived', data=all_data, aspect=2)"
   ]
  },
  {
   "cell_type": "code",
   "execution_count": 41,
   "metadata": {
    "collapsed": false
   },
   "outputs": [],
   "source": [
    "#sns.factorplot(x='Embarked', hue='m_single', col='Survived', data=all_data, kind='count')"
   ]
  },
  {
   "cell_type": "markdown",
   "metadata": {},
   "source": [
    "# Feature Engineering"
   ]
  },
  {
   "cell_type": "markdown",
   "metadata": {},
   "source": [
    "### filling the missing data and create the new feature as we discussed in data analysis section"
   ]
  },
  {
   "cell_type": "markdown",
   "metadata": {},
   "source": [
    "## 1. fill Fare missing data"
   ]
  },
  {
   "cell_type": "code",
   "execution_count": 42,
   "metadata": {
    "collapsed": false
   },
   "outputs": [
    {
     "data": {
      "text/html": [
       "<div>\n",
       "<table border=\"1\" class=\"dataframe\">\n",
       "  <thead>\n",
       "    <tr style=\"text-align: right;\">\n",
       "      <th></th>\n",
       "      <th>Age</th>\n",
       "      <th>Cabin</th>\n",
       "      <th>Embarked</th>\n",
       "      <th>Fare</th>\n",
       "      <th>Name</th>\n",
       "      <th>Parch</th>\n",
       "      <th>PassengerId</th>\n",
       "      <th>Pclass</th>\n",
       "      <th>Sex</th>\n",
       "      <th>SibSp</th>\n",
       "      <th>Survived</th>\n",
       "      <th>Ticket</th>\n",
       "      <th>Fare_bin</th>\n",
       "      <th>Fare_class</th>\n",
       "      <th>Age_bin</th>\n",
       "      <th>Family_size</th>\n",
       "      <th>Title</th>\n",
       "      <th>Cabbin</th>\n",
       "      <th>Deck</th>\n",
       "    </tr>\n",
       "  </thead>\n",
       "  <tbody>\n",
       "    <tr>\n",
       "      <th>1043</th>\n",
       "      <td>60.5</td>\n",
       "      <td>NaN</td>\n",
       "      <td>S</td>\n",
       "      <td>NaN</td>\n",
       "      <td>Storey, Mr. Thomas</td>\n",
       "      <td>0</td>\n",
       "      <td>1044</td>\n",
       "      <td>3</td>\n",
       "      <td>male</td>\n",
       "      <td>0</td>\n",
       "      <td>NaN</td>\n",
       "      <td>3701</td>\n",
       "      <td>NaN</td>\n",
       "      <td>NaN</td>\n",
       "      <td>(60, 70]</td>\n",
       "      <td>1</td>\n",
       "      <td>Mr</td>\n",
       "      <td>Unknown</td>\n",
       "      <td>n</td>\n",
       "    </tr>\n",
       "  </tbody>\n",
       "</table>\n",
       "</div>"
      ],
      "text/plain": [
       "       Age Cabin Embarked  Fare                Name  Parch  PassengerId  \\\n",
       "1043  60.5   NaN        S   NaN  Storey, Mr. Thomas      0         1044   \n",
       "\n",
       "      Pclass   Sex  SibSp  Survived Ticket Fare_bin Fare_class   Age_bin  \\\n",
       "1043       3  male      0       NaN   3701      NaN        NaN  (60, 70]   \n",
       "\n",
       "      Family_size Title   Cabbin Deck  \n",
       "1043            1    Mr  Unknown    n  "
      ]
     },
     "execution_count": 42,
     "metadata": {},
     "output_type": "execute_result"
    }
   ],
   "source": [
    "all_data[all_data['Fare'].isnull()]"
   ]
  },
  {
   "cell_type": "code",
   "execution_count": 43,
   "metadata": {
    "collapsed": false
   },
   "outputs": [
    {
     "data": {
      "text/html": [
       "<div>\n",
       "<table border=\"1\" class=\"dataframe\">\n",
       "  <thead>\n",
       "    <tr style=\"text-align: right;\">\n",
       "      <th></th>\n",
       "      <th>Fare</th>\n",
       "    </tr>\n",
       "    <tr>\n",
       "      <th>Pclass</th>\n",
       "      <th></th>\n",
       "    </tr>\n",
       "  </thead>\n",
       "  <tbody>\n",
       "    <tr>\n",
       "      <th>1</th>\n",
       "      <td>87.508992</td>\n",
       "    </tr>\n",
       "    <tr>\n",
       "      <th>2</th>\n",
       "      <td>21.179196</td>\n",
       "    </tr>\n",
       "    <tr>\n",
       "      <th>3</th>\n",
       "      <td>13.302889</td>\n",
       "    </tr>\n",
       "  </tbody>\n",
       "</table>\n",
       "</div>"
      ],
      "text/plain": [
       "             Fare\n",
       "Pclass           \n",
       "1       87.508992\n",
       "2       21.179196\n",
       "3       13.302889"
      ]
     },
     "execution_count": 43,
     "metadata": {},
     "output_type": "execute_result"
    }
   ],
   "source": [
    "all_data[['Pclass', 'Fare']].groupby(['Pclass']).mean()"
   ]
  },
  {
   "cell_type": "code",
   "execution_count": 44,
   "metadata": {
    "collapsed": false
   },
   "outputs": [
    {
     "data": {
      "text/plain": [
       "[(0, 300)]"
      ]
     },
     "execution_count": 44,
     "metadata": {},
     "output_type": "execute_result"
    },
    {
     "data": {
      "image/png": "[encoded data removed]",
      "text/plain": [
       "<matplotlib.figure.Figure at 0x11d0b71d0>"
      ]
     },
     "metadata": {},
     "output_type": "display_data"
    }
   ],
   "source": [
    "fig2 = sns.boxplot(x=\"Embarked\", y=\"Fare\", hue=\"Pclass\",data=all_data, palette=\"Set3\")\n",
    "fig2.set(ylim=(0, 300)) # there's a $500 at Pclass1\n",
    "#print (all_data[['Pclass', 'Fare', 'Embarked']].groupby(['Embarked']).mean())"
   ]
  },
  {
   "cell_type": "code",
   "execution_count": 185,
   "metadata": {
    "collapsed": false
   },
   "outputs": [],
   "source": [
    "#sns.factorplot(x='Embarked', hue='Fare', col='Pclass', data=all_data, kind='count')"
   ]
  },
  {
   "cell_type": "code",
   "execution_count": 45,
   "metadata": {
    "collapsed": false
   },
   "outputs": [],
   "source": [
    "all_data['Fare'].fillna(13.3, inplace=True)"
   ]
  },
  {
   "cell_type": "code",
   "execution_count": 51,
   "metadata": {
    "collapsed": false
   },
   "outputs": [],
   "source": [
    "all_data['Fare_bin'] = all_data['Fare']\n",
    "bins=[0,13, 21, 50, 600]\n",
    "all_data['Fare_bin'] = pd.cut(all_data['Fare_bin'], bins)\n",
    "#sns.factorplot(x='Fare_bin', hue='Sex', col='Survived', data=all_data, kind='count')\n",
    "\n",
    "all_data['Fare_class'] = all_data['Fare'] / all_data['Pclass']\n",
    "#facet = sns.FacetGrid(all_data[0:800], hue='Survived', aspect=2)\n",
    "#facet.map(sns.kdeplot, 'Fare_class', shade=True)\n",
    "bins=[0,4,10, 87, 1000]\n",
    "all_data['Fare_class'] = pd.cut(all_data['Fare_class'], bins)"
   ]
  },
  {
   "cell_type": "code",
   "execution_count": 52,
   "metadata": {
    "collapsed": false
   },
   "outputs": [
    {
     "data": {
      "text/html": [
       "<div>\n",
       "<table border=\"1\" class=\"dataframe\">\n",
       "  <thead>\n",
       "    <tr style=\"text-align: right;\">\n",
       "      <th></th>\n",
       "      <th>Age</th>\n",
       "      <th>Cabin</th>\n",
       "      <th>Embarked</th>\n",
       "      <th>Fare</th>\n",
       "      <th>Name</th>\n",
       "      <th>Parch</th>\n",
       "      <th>PassengerId</th>\n",
       "      <th>Pclass</th>\n",
       "      <th>Sex</th>\n",
       "      <th>SibSp</th>\n",
       "      <th>Survived</th>\n",
       "      <th>Ticket</th>\n",
       "      <th>Fare_bin</th>\n",
       "      <th>Fare_class</th>\n",
       "      <th>Age_bin</th>\n",
       "      <th>Family_size</th>\n",
       "      <th>Title</th>\n",
       "      <th>Cabbin</th>\n",
       "      <th>Deck</th>\n",
       "    </tr>\n",
       "  </thead>\n",
       "  <tbody>\n",
       "  </tbody>\n",
       "</table>\n",
       "</div>"
      ],
      "text/plain": [
       "Empty DataFrame\n",
       "Columns: [Age, Cabin, Embarked, Fare, Name, Parch, PassengerId, Pclass, Sex, SibSp, Survived, Ticket, Fare_bin, Fare_class, Age_bin, Family_size, Title, Cabbin, Deck]\n",
       "Index: []"
      ]
     },
     "execution_count": 52,
     "metadata": {},
     "output_type": "execute_result"
    }
   ],
   "source": [
    "all_data[all_data['Fare'].isnull()]"
   ]
  },
  {
   "cell_type": "markdown",
   "metadata": {},
   "source": [
    "## 2. fill Embarked missing data"
   ]
  },
  {
   "cell_type": "code",
   "execution_count": 53,
   "metadata": {
    "collapsed": false
   },
   "outputs": [
    {
     "data": {
      "text/html": [
       "<div>\n",
       "<table border=\"1\" class=\"dataframe\">\n",
       "  <thead>\n",
       "    <tr style=\"text-align: right;\">\n",
       "      <th></th>\n",
       "      <th>Age</th>\n",
       "      <th>Cabin</th>\n",
       "      <th>Embarked</th>\n",
       "      <th>Fare</th>\n",
       "      <th>Name</th>\n",
       "      <th>Parch</th>\n",
       "      <th>PassengerId</th>\n",
       "      <th>Pclass</th>\n",
       "      <th>Sex</th>\n",
       "      <th>SibSp</th>\n",
       "      <th>Survived</th>\n",
       "      <th>Ticket</th>\n",
       "      <th>Fare_bin</th>\n",
       "      <th>Fare_class</th>\n",
       "      <th>Age_bin</th>\n",
       "      <th>Family_size</th>\n",
       "      <th>Title</th>\n",
       "      <th>Cabbin</th>\n",
       "      <th>Deck</th>\n",
       "    </tr>\n",
       "  </thead>\n",
       "  <tbody>\n",
       "    <tr>\n",
       "      <th>61</th>\n",
       "      <td>38.0</td>\n",
       "      <td>B28</td>\n",
       "      <td>NaN</td>\n",
       "      <td>80.0</td>\n",
       "      <td>Icard, Miss. Amelie</td>\n",
       "      <td>0</td>\n",
       "      <td>62</td>\n",
       "      <td>1</td>\n",
       "      <td>female</td>\n",
       "      <td>0</td>\n",
       "      <td>1.0</td>\n",
       "      <td>113572</td>\n",
       "      <td>(50, 600]</td>\n",
       "      <td>(10, 87]</td>\n",
       "      <td>(30, 40]</td>\n",
       "      <td>1</td>\n",
       "      <td>Miss</td>\n",
       "      <td>B28</td>\n",
       "      <td>B</td>\n",
       "    </tr>\n",
       "    <tr>\n",
       "      <th>829</th>\n",
       "      <td>62.0</td>\n",
       "      <td>B28</td>\n",
       "      <td>NaN</td>\n",
       "      <td>80.0</td>\n",
       "      <td>Stone, Mrs. George Nelson (Martha Evelyn)</td>\n",
       "      <td>0</td>\n",
       "      <td>830</td>\n",
       "      <td>1</td>\n",
       "      <td>female</td>\n",
       "      <td>0</td>\n",
       "      <td>1.0</td>\n",
       "      <td>113572</td>\n",
       "      <td>(50, 600]</td>\n",
       "      <td>(10, 87]</td>\n",
       "      <td>(60, 70]</td>\n",
       "      <td>1</td>\n",
       "      <td>Mrs</td>\n",
       "      <td>B28</td>\n",
       "      <td>B</td>\n",
       "    </tr>\n",
       "  </tbody>\n",
       "</table>\n",
       "</div>"
      ],
      "text/plain": [
       "      Age Cabin Embarked  Fare                                       Name  \\\n",
       "61   38.0   B28      NaN  80.0                        Icard, Miss. Amelie   \n",
       "829  62.0   B28      NaN  80.0  Stone, Mrs. George Nelson (Martha Evelyn)   \n",
       "\n",
       "     Parch  PassengerId  Pclass     Sex  SibSp  Survived  Ticket   Fare_bin  \\\n",
       "61       0           62       1  female      0       1.0  113572  (50, 600]   \n",
       "829      0          830       1  female      0       1.0  113572  (50, 600]   \n",
       "\n",
       "    Fare_class   Age_bin  Family_size Title Cabbin Deck  \n",
       "61    (10, 87]  (30, 40]            1  Miss    B28    B  \n",
       "829   (10, 87]  (60, 70]            1   Mrs    B28    B  "
      ]
     },
     "execution_count": 53,
     "metadata": {},
     "output_type": "execute_result"
    }
   ],
   "source": [
    "all_data[all_data['Embarked'].isnull()]"
   ]
  },
  {
   "cell_type": "code",
   "execution_count": 54,
   "metadata": {
    "collapsed": false
   },
   "outputs": [
    {
     "data": {
      "text/html": [
       "<div>\n",
       "<table border=\"1\" class=\"dataframe\">\n",
       "  <thead>\n",
       "    <tr style=\"text-align: right;\">\n",
       "      <th></th>\n",
       "      <th>Fare</th>\n",
       "    </tr>\n",
       "    <tr>\n",
       "      <th>Embarked</th>\n",
       "      <th></th>\n",
       "    </tr>\n",
       "  </thead>\n",
       "  <tbody>\n",
       "    <tr>\n",
       "      <th>C</th>\n",
       "      <td>62.336267</td>\n",
       "    </tr>\n",
       "    <tr>\n",
       "      <th>Q</th>\n",
       "      <td>12.409012</td>\n",
       "    </tr>\n",
       "    <tr>\n",
       "      <th>S</th>\n",
       "      <td>27.403377</td>\n",
       "    </tr>\n",
       "  </tbody>\n",
       "</table>\n",
       "</div>"
      ],
      "text/plain": [
       "               Fare\n",
       "Embarked           \n",
       "C         62.336267\n",
       "Q         12.409012\n",
       "S         27.403377"
      ]
     },
     "execution_count": 54,
     "metadata": {},
     "output_type": "execute_result"
    }
   ],
   "source": [
    "all_data[['Embarked', 'Fare']].groupby(['Embarked']).mean()"
   ]
  },
  {
   "cell_type": "code",
   "execution_count": 55,
   "metadata": {
    "collapsed": false
   },
   "outputs": [],
   "source": [
    "all_data['Embarked'].fillna('C', inplace=True)"
   ]
  },
  {
   "cell_type": "code",
   "execution_count": 56,
   "metadata": {
    "collapsed": false
   },
   "outputs": [
    {
     "data": {
      "text/html": [
       "<div>\n",
       "<table border=\"1\" class=\"dataframe\">\n",
       "  <thead>\n",
       "    <tr style=\"text-align: right;\">\n",
       "      <th></th>\n",
       "      <th>Age</th>\n",
       "      <th>Cabin</th>\n",
       "      <th>Embarked</th>\n",
       "      <th>Fare</th>\n",
       "      <th>Name</th>\n",
       "      <th>Parch</th>\n",
       "      <th>PassengerId</th>\n",
       "      <th>Pclass</th>\n",
       "      <th>Sex</th>\n",
       "      <th>SibSp</th>\n",
       "      <th>Survived</th>\n",
       "      <th>Ticket</th>\n",
       "      <th>Fare_bin</th>\n",
       "      <th>Fare_class</th>\n",
       "      <th>Age_bin</th>\n",
       "      <th>Family_size</th>\n",
       "      <th>Title</th>\n",
       "      <th>Cabbin</th>\n",
       "      <th>Deck</th>\n",
       "    </tr>\n",
       "  </thead>\n",
       "  <tbody>\n",
       "  </tbody>\n",
       "</table>\n",
       "</div>"
      ],
      "text/plain": [
       "Empty DataFrame\n",
       "Columns: [Age, Cabin, Embarked, Fare, Name, Parch, PassengerId, Pclass, Sex, SibSp, Survived, Ticket, Fare_bin, Fare_class, Age_bin, Family_size, Title, Cabbin, Deck]\n",
       "Index: []"
      ]
     },
     "execution_count": 56,
     "metadata": {},
     "output_type": "execute_result"
    }
   ],
   "source": [
    "all_data[all_data['Embarked'].isnull()]"
   ]
  },
  {
   "cell_type": "markdown",
   "metadata": {},
   "source": [
    "## 3. Family_group (new feature)"
   ]
  },
  {
   "cell_type": "code",
   "execution_count": 82,
   "metadata": {
    "collapsed": false
   },
   "outputs": [
    {
     "data": {
      "text/plain": [
       "<matplotlib.axes._subplots.AxesSubplot at 0x11e4470f0>"
      ]
     },
     "execution_count": 82,
     "metadata": {},
     "output_type": "execute_result"
    },
    {
     "data": {
      "image/png": "[encoded data removed]",
      "text/plain": [
       "<matplotlib.figure.Figure at 0x11e1a45f8>"
      ]
     },
     "metadata": {},
     "output_type": "display_data"
    }
   ],
   "source": [
    "def Ticket_Label(s):\n",
    "    if (s >= 2) & (s <= 4):\n",
    "        return 1\n",
    "    else:\n",
    "        return 0\n",
    "\n",
    "all_data['Family_group'] = all_data['Family_size'].apply(Ticket_Label)\n",
    "sns.barplot(x='Family_group', y='Survived', data=all_data, palette='Set3')"
   ]
  },
  {
   "cell_type": "code",
   "execution_count": null,
   "metadata": {
    "collapsed": true
   },
   "outputs": [],
   "source": []
  },
  {
   "cell_type": "code",
   "execution_count": 83,
   "metadata": {
    "collapsed": false
   },
   "outputs": [
    {
     "data": {
      "text/html": [
       "<div>\n",
       "<table border=\"1\" class=\"dataframe\">\n",
       "  <thead>\n",
       "    <tr style=\"text-align: right;\">\n",
       "      <th></th>\n",
       "      <th>Age</th>\n",
       "      <th>Cabin</th>\n",
       "      <th>Embarked</th>\n",
       "      <th>Fare</th>\n",
       "      <th>Name</th>\n",
       "      <th>Parch</th>\n",
       "      <th>PassengerId</th>\n",
       "      <th>Pclass</th>\n",
       "      <th>Sex</th>\n",
       "      <th>SibSp</th>\n",
       "      <th>Survived</th>\n",
       "      <th>Ticket</th>\n",
       "      <th>Fare_bin</th>\n",
       "      <th>Fare_class</th>\n",
       "      <th>Age_bin</th>\n",
       "      <th>Family_size</th>\n",
       "      <th>Title</th>\n",
       "      <th>Cabbin</th>\n",
       "      <th>Deck</th>\n",
       "      <th>Family_group</th>\n",
       "    </tr>\n",
       "  </thead>\n",
       "  <tbody>\n",
       "    <tr>\n",
       "      <th>0</th>\n",
       "      <td>22.0</td>\n",
       "      <td>Unknown</td>\n",
       "      <td>S</td>\n",
       "      <td>7.25</td>\n",
       "      <td>Braund, Mr. Owen Harris</td>\n",
       "      <td>0</td>\n",
       "      <td>1</td>\n",
       "      <td>3</td>\n",
       "      <td>male</td>\n",
       "      <td>1</td>\n",
       "      <td>0.0</td>\n",
       "      <td>A/5 21171</td>\n",
       "      <td>(0, 13]</td>\n",
       "      <td>(0, 4]</td>\n",
       "      <td>(20, 30]</td>\n",
       "      <td>2</td>\n",
       "      <td>Mr</td>\n",
       "      <td>Unknown</td>\n",
       "      <td>U</td>\n",
       "      <td>1</td>\n",
       "    </tr>\n",
       "  </tbody>\n",
       "</table>\n",
       "</div>"
      ],
      "text/plain": [
       "    Age    Cabin Embarked  Fare                     Name  Parch  PassengerId  \\\n",
       "0  22.0  Unknown        S  7.25  Braund, Mr. Owen Harris      0            1   \n",
       "\n",
       "   Pclass   Sex  SibSp  Survived     Ticket Fare_bin Fare_class   Age_bin  \\\n",
       "0       3  male      1       0.0  A/5 21171  (0, 13]     (0, 4]  (20, 30]   \n",
       "\n",
       "   Family_size Title   Cabbin Deck  Family_group  \n",
       "0            2    Mr  Unknown    U             1  "
      ]
     },
     "execution_count": 83,
     "metadata": {},
     "output_type": "execute_result"
    }
   ],
   "source": [
    "all_data[0:1]"
   ]
  },
  {
   "cell_type": "markdown",
   "metadata": {},
   "source": [
    "## 4. fill Age missing data"
   ]
  },
  {
   "cell_type": "markdown",
   "metadata": {},
   "source": [
    "### Using random forest algorithm to filling the missing Age data"
   ]
  },
  {
   "cell_type": "code",
   "execution_count": 102,
   "metadata": {
    "collapsed": true
   },
   "outputs": [],
   "source": [
    "data_clean = all_data[['Age', 'Embarked', 'PassengerId', 'Pclass', \n",
    "                  'Sex', 'Fare_bin', 'Fare_class', 'Family_group', 'Title', 'Deck', 'Survived']]"
   ]
  },
  {
   "cell_type": "code",
   "execution_count": 103,
   "metadata": {
    "collapsed": false
   },
   "outputs": [
    {
     "name": "stderr",
     "output_type": "stream",
     "text": [
      "/Users/ifchicken/miniconda3/envs/carnd-term1/lib/python3.5/site-packages/ipykernel/__main__.py:4: SettingWithCopyWarning: \n",
      "A value is trying to be set on a copy of a slice from a DataFrame.\n",
      "Try using .loc[row_indexer,col_indexer] = value instead\n",
      "\n",
      "See the caveats in the documentation: http://pandas.pydata.org/pandas-docs/stable/indexing.html#indexing-view-versus-copy\n"
     ]
    }
   ],
   "source": [
    "tmp_feature = ['Embarked', 'Pclass', 'Sex', 'Fare_bin', \n",
    "               'Fare_class', 'Family_group', 'Title', 'Deck']\n",
    "for item in tmp_feature:\n",
    "    data_clean[item] = data_clean[item].astype('category').cat.codes"
   ]
  },
  {
   "cell_type": "code",
   "execution_count": 104,
   "metadata": {
    "collapsed": false
   },
   "outputs": [
    {
     "name": "stdout",
     "output_type": "stream",
     "text": [
      "(1309, 11)\n"
     ]
    },
    {
     "data": {
      "text/html": [
       "<div>\n",
       "<table border=\"1\" class=\"dataframe\">\n",
       "  <thead>\n",
       "    <tr style=\"text-align: right;\">\n",
       "      <th></th>\n",
       "      <th>Age</th>\n",
       "      <th>Embarked</th>\n",
       "      <th>PassengerId</th>\n",
       "      <th>Pclass</th>\n",
       "      <th>Sex</th>\n",
       "      <th>Fare_bin</th>\n",
       "      <th>Fare_class</th>\n",
       "      <th>Family_group</th>\n",
       "      <th>Title</th>\n",
       "      <th>Deck</th>\n",
       "      <th>Survived</th>\n",
       "    </tr>\n",
       "  </thead>\n",
       "  <tbody>\n",
       "    <tr>\n",
       "      <th>0</th>\n",
       "      <td>22.0</td>\n",
       "      <td>2</td>\n",
       "      <td>1</td>\n",
       "      <td>2</td>\n",
       "      <td>1</td>\n",
       "      <td>0</td>\n",
       "      <td>0</td>\n",
       "      <td>1</td>\n",
       "      <td>2</td>\n",
       "      <td>8</td>\n",
       "      <td>0.0</td>\n",
       "    </tr>\n",
       "    <tr>\n",
       "      <th>1</th>\n",
       "      <td>38.0</td>\n",
       "      <td>0</td>\n",
       "      <td>2</td>\n",
       "      <td>0</td>\n",
       "      <td>0</td>\n",
       "      <td>3</td>\n",
       "      <td>2</td>\n",
       "      <td>1</td>\n",
       "      <td>3</td>\n",
       "      <td>2</td>\n",
       "      <td>1.0</td>\n",
       "    </tr>\n",
       "    <tr>\n",
       "      <th>2</th>\n",
       "      <td>26.0</td>\n",
       "      <td>2</td>\n",
       "      <td>3</td>\n",
       "      <td>2</td>\n",
       "      <td>0</td>\n",
       "      <td>0</td>\n",
       "      <td>0</td>\n",
       "      <td>0</td>\n",
       "      <td>1</td>\n",
       "      <td>8</td>\n",
       "      <td>1.0</td>\n",
       "    </tr>\n",
       "    <tr>\n",
       "      <th>3</th>\n",
       "      <td>35.0</td>\n",
       "      <td>2</td>\n",
       "      <td>4</td>\n",
       "      <td>0</td>\n",
       "      <td>0</td>\n",
       "      <td>3</td>\n",
       "      <td>2</td>\n",
       "      <td>1</td>\n",
       "      <td>3</td>\n",
       "      <td>2</td>\n",
       "      <td>1.0</td>\n",
       "    </tr>\n",
       "    <tr>\n",
       "      <th>4</th>\n",
       "      <td>35.0</td>\n",
       "      <td>2</td>\n",
       "      <td>5</td>\n",
       "      <td>2</td>\n",
       "      <td>1</td>\n",
       "      <td>0</td>\n",
       "      <td>0</td>\n",
       "      <td>0</td>\n",
       "      <td>2</td>\n",
       "      <td>8</td>\n",
       "      <td>0.0</td>\n",
       "    </tr>\n",
       "  </tbody>\n",
       "</table>\n",
       "</div>"
      ],
      "text/plain": [
       "    Age  Embarked  PassengerId  Pclass  Sex  Fare_bin  Fare_class  \\\n",
       "0  22.0         2            1       2    1         0           0   \n",
       "1  38.0         0            2       0    0         3           2   \n",
       "2  26.0         2            3       2    0         0           0   \n",
       "3  35.0         2            4       0    0         3           2   \n",
       "4  35.0         2            5       2    1         0           0   \n",
       "\n",
       "   Family_group  Title  Deck  Survived  \n",
       "0             1      2     8       0.0  \n",
       "1             1      3     2       1.0  \n",
       "2             0      1     8       1.0  \n",
       "3             1      3     2       1.0  \n",
       "4             0      2     8       0.0  "
      ]
     },
     "execution_count": 104,
     "metadata": {},
     "output_type": "execute_result"
    }
   ],
   "source": [
    "print (data_clean.shape)\n",
    "data_clean.head()"
   ]
  },
  {
   "cell_type": "code",
   "execution_count": 105,
   "metadata": {
    "collapsed": false
   },
   "outputs": [
    {
     "name": "stdout",
     "output_type": "stream",
     "text": [
      "(1309, 4)\n"
     ]
    },
    {
     "data": {
      "text/html": [
       "<div>\n",
       "<table border=\"1\" class=\"dataframe\">\n",
       "  <thead>\n",
       "    <tr style=\"text-align: right;\">\n",
       "      <th></th>\n",
       "      <th>Age</th>\n",
       "      <th>Pclass</th>\n",
       "      <th>Sex</th>\n",
       "      <th>Title</th>\n",
       "    </tr>\n",
       "  </thead>\n",
       "  <tbody>\n",
       "    <tr>\n",
       "      <th>0</th>\n",
       "      <td>22.0</td>\n",
       "      <td>2</td>\n",
       "      <td>1</td>\n",
       "      <td>2</td>\n",
       "    </tr>\n",
       "    <tr>\n",
       "      <th>1</th>\n",
       "      <td>38.0</td>\n",
       "      <td>0</td>\n",
       "      <td>0</td>\n",
       "      <td>3</td>\n",
       "    </tr>\n",
       "    <tr>\n",
       "      <th>2</th>\n",
       "      <td>26.0</td>\n",
       "      <td>2</td>\n",
       "      <td>0</td>\n",
       "      <td>1</td>\n",
       "    </tr>\n",
       "    <tr>\n",
       "      <th>3</th>\n",
       "      <td>35.0</td>\n",
       "      <td>0</td>\n",
       "      <td>0</td>\n",
       "      <td>3</td>\n",
       "    </tr>\n",
       "    <tr>\n",
       "      <th>4</th>\n",
       "      <td>35.0</td>\n",
       "      <td>2</td>\n",
       "      <td>1</td>\n",
       "      <td>2</td>\n",
       "    </tr>\n",
       "  </tbody>\n",
       "</table>\n",
       "</div>"
      ],
      "text/plain": [
       "    Age  Pclass  Sex  Title\n",
       "0  22.0       2    1      2\n",
       "1  38.0       0    0      3\n",
       "2  26.0       2    0      1\n",
       "3  35.0       0    0      3\n",
       "4  35.0       2    1      2"
      ]
     },
     "execution_count": 105,
     "metadata": {},
     "output_type": "execute_result"
    }
   ],
   "source": [
    "data_age = data_clean[['Age', 'Pclass', 'Sex', 'Title']]\n",
    "print (data_age.shape)\n",
    "data_age.head()"
   ]
  },
  {
   "cell_type": "code",
   "execution_count": null,
   "metadata": {
    "collapsed": true
   },
   "outputs": [],
   "source": []
  },
  {
   "cell_type": "code",
   "execution_count": 106,
   "metadata": {
    "collapsed": false
   },
   "outputs": [
    {
     "name": "stdout",
     "output_type": "stream",
     "text": [
      "(1046, 3) (263, 3)\n"
     ]
    }
   ],
   "source": [
    "age_X_train = data_age.dropna().drop('Age', axis=1)\n",
    "age_y_train = all_data['Age'].dropna()\n",
    "age_X_test = data_age.loc[np.isnan(data_age['Age'])].drop('Age', axis=1)\n",
    "print (age_X_train.shape, age_X_test.shape)"
   ]
  },
  {
   "cell_type": "code",
   "execution_count": 107,
   "metadata": {
    "collapsed": false
   },
   "outputs": [
    {
     "name": "stderr",
     "output_type": "stream",
     "text": [
      "/Users/ifchicken/miniconda3/envs/carnd-term1/lib/python3.5/site-packages/pandas/core/indexing.py:141: SettingWithCopyWarning: \n",
      "A value is trying to be set on a copy of a slice from a DataFrame\n",
      "\n",
      "See the caveats in the documentation: http://pandas.pydata.org/pandas-docs/stable/indexing.html#indexing-view-versus-copy\n",
      "  self._setitem_with_indexer(indexer, value)\n",
      "/Users/ifchicken/miniconda3/envs/carnd-term1/lib/python3.5/site-packages/ipykernel/__main__.py:5: SettingWithCopyWarning: \n",
      "A value is trying to be set on a copy of a slice from a DataFrame\n",
      "\n",
      "See the caveats in the documentation: http://pandas.pydata.org/pandas-docs/stable/indexing.html#indexing-view-versus-copy\n"
     ]
    }
   ],
   "source": [
    "from sklearn.ensemble import RandomForestRegressor\n",
    "reg = RandomForestRegressor(n_estimators=300)\n",
    "reg.fit(age_X_train, age_y_train)\n",
    "age_y_pred = np.round(reg.predict(age_X_test), 1)\n",
    "data_clean['Age'].loc[data_clean['Age'].isnull()] = age_y_pred"
   ]
  },
  {
   "cell_type": "code",
   "execution_count": 108,
   "metadata": {
    "collapsed": false
   },
   "outputs": [
    {
     "name": "stdout",
     "output_type": "stream",
     "text": [
      "<class 'pandas.core.frame.DataFrame'>\n",
      "RangeIndex: 1309 entries, 0 to 1308\n",
      "Data columns (total 11 columns):\n",
      "Age             1309 non-null float64\n",
      "Embarked        1309 non-null int8\n",
      "PassengerId     1309 non-null int64\n",
      "Pclass          1309 non-null int8\n",
      "Sex             1309 non-null int8\n",
      "Fare_bin        1309 non-null int8\n",
      "Fare_class      1309 non-null int8\n",
      "Family_group    1309 non-null int8\n",
      "Title           1309 non-null int8\n",
      "Deck            1309 non-null int8\n",
      "Survived        891 non-null float64\n",
      "dtypes: float64(2), int64(1), int8(8)\n",
      "memory usage: 41.0 KB\n"
     ]
    }
   ],
   "source": [
    "data_clean.info()"
   ]
  },
  {
   "cell_type": "markdown",
   "metadata": {},
   "source": [
    "# Save clean data"
   ]
  },
  {
   "cell_type": "code",
   "execution_count": 109,
   "metadata": {
    "collapsed": false
   },
   "outputs": [],
   "source": [
    "data_clean.to_csv('data_clean.csv', index=False)"
   ]
  },
  {
   "cell_type": "markdown",
   "metadata": {},
   "source": [
    "## create result using scikit-learn"
   ]
  },
  {
   "cell_type": "code",
   "execution_count": 92,
   "metadata": {
    "collapsed": true
   },
   "outputs": [],
   "source": [
    "X_train = model[0:891].drop(['PassengerId'], axis=1)\n",
    "y_train = train['Survived']\n",
    "X_test = model[891:].drop(['PassengerId'], axis=1)"
   ]
  },
  {
   "cell_type": "code",
   "execution_count": 93,
   "metadata": {
    "collapsed": false
   },
   "outputs": [
    {
     "data": {
      "text/html": [
       "<div>\n",
       "<table border=\"1\" class=\"dataframe\">\n",
       "  <thead>\n",
       "    <tr style=\"text-align: right;\">\n",
       "      <th></th>\n",
       "      <th>Age</th>\n",
       "      <th>Embarked</th>\n",
       "      <th>Pclass</th>\n",
       "      <th>Sex</th>\n",
       "      <th>Fare_bin</th>\n",
       "      <th>Fare_class</th>\n",
       "      <th>Family_group</th>\n",
       "      <th>Title</th>\n",
       "      <th>Deck</th>\n",
       "    </tr>\n",
       "  </thead>\n",
       "  <tbody>\n",
       "    <tr>\n",
       "      <th>0</th>\n",
       "      <td>22.0</td>\n",
       "      <td>2</td>\n",
       "      <td>2</td>\n",
       "      <td>1</td>\n",
       "      <td>0</td>\n",
       "      <td>0</td>\n",
       "      <td>1</td>\n",
       "      <td>2</td>\n",
       "      <td>8</td>\n",
       "    </tr>\n",
       "    <tr>\n",
       "      <th>1</th>\n",
       "      <td>38.0</td>\n",
       "      <td>0</td>\n",
       "      <td>0</td>\n",
       "      <td>0</td>\n",
       "      <td>3</td>\n",
       "      <td>2</td>\n",
       "      <td>1</td>\n",
       "      <td>3</td>\n",
       "      <td>2</td>\n",
       "    </tr>\n",
       "    <tr>\n",
       "      <th>2</th>\n",
       "      <td>26.0</td>\n",
       "      <td>2</td>\n",
       "      <td>2</td>\n",
       "      <td>0</td>\n",
       "      <td>0</td>\n",
       "      <td>0</td>\n",
       "      <td>0</td>\n",
       "      <td>1</td>\n",
       "      <td>8</td>\n",
       "    </tr>\n",
       "    <tr>\n",
       "      <th>3</th>\n",
       "      <td>35.0</td>\n",
       "      <td>2</td>\n",
       "      <td>0</td>\n",
       "      <td>0</td>\n",
       "      <td>3</td>\n",
       "      <td>2</td>\n",
       "      <td>1</td>\n",
       "      <td>3</td>\n",
       "      <td>2</td>\n",
       "    </tr>\n",
       "    <tr>\n",
       "      <th>4</th>\n",
       "      <td>35.0</td>\n",
       "      <td>2</td>\n",
       "      <td>2</td>\n",
       "      <td>1</td>\n",
       "      <td>0</td>\n",
       "      <td>0</td>\n",
       "      <td>0</td>\n",
       "      <td>2</td>\n",
       "      <td>8</td>\n",
       "    </tr>\n",
       "  </tbody>\n",
       "</table>\n",
       "</div>"
      ],
      "text/plain": [
       "    Age  Embarked  Pclass  Sex  Fare_bin  Fare_class  Family_group  Title  \\\n",
       "0  22.0         2       2    1         0           0             1      2   \n",
       "1  38.0         0       0    0         3           2             1      3   \n",
       "2  26.0         2       2    0         0           0             0      1   \n",
       "3  35.0         2       0    0         3           2             1      3   \n",
       "4  35.0         2       2    1         0           0             0      2   \n",
       "\n",
       "   Deck  \n",
       "0     8  \n",
       "1     2  \n",
       "2     8  \n",
       "3     2  \n",
       "4     8  "
      ]
     },
     "execution_count": 93,
     "metadata": {},
     "output_type": "execute_result"
    }
   ],
   "source": [
    "X_train.head()"
   ]
  },
  {
   "cell_type": "code",
   "execution_count": 96,
   "metadata": {
    "collapsed": false
   },
   "outputs": [
    {
     "data": {
      "text/html": [
       "<div>\n",
       "<table border=\"1\" class=\"dataframe\">\n",
       "  <thead>\n",
       "    <tr style=\"text-align: right;\">\n",
       "      <th></th>\n",
       "      <th>Age</th>\n",
       "      <th>Embarked</th>\n",
       "      <th>Pclass</th>\n",
       "      <th>Sex</th>\n",
       "      <th>Fare_bin</th>\n",
       "      <th>Fare_class</th>\n",
       "      <th>Family_group</th>\n",
       "      <th>Title</th>\n",
       "      <th>Deck</th>\n",
       "    </tr>\n",
       "  </thead>\n",
       "  <tbody>\n",
       "    <tr>\n",
       "      <th>891</th>\n",
       "      <td>34.5</td>\n",
       "      <td>1</td>\n",
       "      <td>2</td>\n",
       "      <td>1</td>\n",
       "      <td>0</td>\n",
       "      <td>0</td>\n",
       "      <td>0</td>\n",
       "      <td>2</td>\n",
       "      <td>8</td>\n",
       "    </tr>\n",
       "    <tr>\n",
       "      <th>892</th>\n",
       "      <td>47.0</td>\n",
       "      <td>2</td>\n",
       "      <td>2</td>\n",
       "      <td>0</td>\n",
       "      <td>0</td>\n",
       "      <td>0</td>\n",
       "      <td>1</td>\n",
       "      <td>3</td>\n",
       "      <td>8</td>\n",
       "    </tr>\n",
       "    <tr>\n",
       "      <th>893</th>\n",
       "      <td>62.0</td>\n",
       "      <td>1</td>\n",
       "      <td>1</td>\n",
       "      <td>1</td>\n",
       "      <td>0</td>\n",
       "      <td>1</td>\n",
       "      <td>0</td>\n",
       "      <td>2</td>\n",
       "      <td>8</td>\n",
       "    </tr>\n",
       "    <tr>\n",
       "      <th>894</th>\n",
       "      <td>27.0</td>\n",
       "      <td>2</td>\n",
       "      <td>2</td>\n",
       "      <td>1</td>\n",
       "      <td>0</td>\n",
       "      <td>0</td>\n",
       "      <td>0</td>\n",
       "      <td>2</td>\n",
       "      <td>8</td>\n",
       "    </tr>\n",
       "    <tr>\n",
       "      <th>895</th>\n",
       "      <td>22.0</td>\n",
       "      <td>2</td>\n",
       "      <td>2</td>\n",
       "      <td>0</td>\n",
       "      <td>0</td>\n",
       "      <td>1</td>\n",
       "      <td>1</td>\n",
       "      <td>3</td>\n",
       "      <td>8</td>\n",
       "    </tr>\n",
       "  </tbody>\n",
       "</table>\n",
       "</div>"
      ],
      "text/plain": [
       "      Age  Embarked  Pclass  Sex  Fare_bin  Fare_class  Family_group  Title  \\\n",
       "891  34.5         1       2    1         0           0             0      2   \n",
       "892  47.0         2       2    0         0           0             1      3   \n",
       "893  62.0         1       1    1         0           1             0      2   \n",
       "894  27.0         2       2    1         0           0             0      2   \n",
       "895  22.0         2       2    0         0           1             1      3   \n",
       "\n",
       "     Deck  \n",
       "891     8  \n",
       "892     8  \n",
       "893     8  \n",
       "894     8  \n",
       "895     8  "
      ]
     },
     "execution_count": 96,
     "metadata": {},
     "output_type": "execute_result"
    }
   ],
   "source": [
    "X_test.head()"
   ]
  },
  {
   "cell_type": "code",
   "execution_count": 94,
   "metadata": {
    "collapsed": false
   },
   "outputs": [
    {
     "name": "stdout",
     "output_type": "stream",
     "text": [
      "train accuracy =  88.3277216611 %\n"
     ]
    }
   ],
   "source": [
    "from sklearn.ensemble import AdaBoostClassifier\n",
    "from sklearn.ensemble import RandomForestClassifier\n",
    "from sklearn.tree import DecisionTreeClassifier\n",
    "from sklearn.metrics import accuracy_score\n",
    "#clf = AdaBoostClassifier(base_estimator=DecisionTreeClassifier(criterion=\"entropy\", max_depth=5))\n",
    "clf = RandomForestClassifier(criterion='gini', \n",
    "                             n_estimators=1000,\n",
    "                             min_samples_split=12,\n",
    "                             min_samples_leaf=1,\n",
    "                             oob_score=True,\n",
    "                             random_state=1,\n",
    "                             n_jobs=-1) \n",
    "\n",
    "AdaBoostClassifier(base_estimator=DecisionTreeClassifier(criterion=\"entropy\", max_depth=5))\n",
    "clf = clf.fit(X_train, y_train)\n",
    "    \n",
    "predict = clf.predict(X_train)\n",
    "acc = accuracy_score(predict, y_train)\n",
    "print(\"train accuracy = \", acc * 100, \"%\")"
   ]
  },
  {
   "cell_type": "code",
   "execution_count": null,
   "metadata": {
    "collapsed": false
   },
   "outputs": [],
   "source": []
  },
  {
   "cell_type": "code",
   "execution_count": 97,
   "metadata": {
    "collapsed": false
   },
   "outputs": [],
   "source": [
    "y_test = clf.predict(X_test)\n",
    "y_test = y_test.astype(int).reshape(test.shape[0])\n",
    "output = pd.DataFrame({'PassengerId': test['PassengerId'], 'Survived': y_test})"
   ]
  },
  {
   "cell_type": "code",
   "execution_count": 98,
   "metadata": {
    "collapsed": false
   },
   "outputs": [
    {
     "data": {
      "text/html": [
       "<div>\n",
       "<table border=\"1\" class=\"dataframe\">\n",
       "  <thead>\n",
       "    <tr style=\"text-align: right;\">\n",
       "      <th></th>\n",
       "      <th>PassengerId</th>\n",
       "      <th>Survived</th>\n",
       "    </tr>\n",
       "  </thead>\n",
       "  <tbody>\n",
       "    <tr>\n",
       "      <th>0</th>\n",
       "      <td>892</td>\n",
       "      <td>0</td>\n",
       "    </tr>\n",
       "    <tr>\n",
       "      <th>1</th>\n",
       "      <td>893</td>\n",
       "      <td>0</td>\n",
       "    </tr>\n",
       "    <tr>\n",
       "      <th>2</th>\n",
       "      <td>894</td>\n",
       "      <td>0</td>\n",
       "    </tr>\n",
       "    <tr>\n",
       "      <th>3</th>\n",
       "      <td>895</td>\n",
       "      <td>1</td>\n",
       "    </tr>\n",
       "    <tr>\n",
       "      <th>4</th>\n",
       "      <td>896</td>\n",
       "      <td>1</td>\n",
       "    </tr>\n",
       "    <tr>\n",
       "      <th>5</th>\n",
       "      <td>897</td>\n",
       "      <td>0</td>\n",
       "    </tr>\n",
       "    <tr>\n",
       "      <th>6</th>\n",
       "      <td>898</td>\n",
       "      <td>0</td>\n",
       "    </tr>\n",
       "    <tr>\n",
       "      <th>7</th>\n",
       "      <td>899</td>\n",
       "      <td>0</td>\n",
       "    </tr>\n",
       "    <tr>\n",
       "      <th>8</th>\n",
       "      <td>900</td>\n",
       "      <td>1</td>\n",
       "    </tr>\n",
       "    <tr>\n",
       "      <th>9</th>\n",
       "      <td>901</td>\n",
       "      <td>0</td>\n",
       "    </tr>\n",
       "    <tr>\n",
       "      <th>10</th>\n",
       "      <td>902</td>\n",
       "      <td>0</td>\n",
       "    </tr>\n",
       "    <tr>\n",
       "      <th>11</th>\n",
       "      <td>903</td>\n",
       "      <td>0</td>\n",
       "    </tr>\n",
       "    <tr>\n",
       "      <th>12</th>\n",
       "      <td>904</td>\n",
       "      <td>1</td>\n",
       "    </tr>\n",
       "    <tr>\n",
       "      <th>13</th>\n",
       "      <td>905</td>\n",
       "      <td>0</td>\n",
       "    </tr>\n",
       "    <tr>\n",
       "      <th>14</th>\n",
       "      <td>906</td>\n",
       "      <td>1</td>\n",
       "    </tr>\n",
       "    <tr>\n",
       "      <th>15</th>\n",
       "      <td>907</td>\n",
       "      <td>1</td>\n",
       "    </tr>\n",
       "    <tr>\n",
       "      <th>16</th>\n",
       "      <td>908</td>\n",
       "      <td>0</td>\n",
       "    </tr>\n",
       "    <tr>\n",
       "      <th>17</th>\n",
       "      <td>909</td>\n",
       "      <td>0</td>\n",
       "    </tr>\n",
       "    <tr>\n",
       "      <th>18</th>\n",
       "      <td>910</td>\n",
       "      <td>0</td>\n",
       "    </tr>\n",
       "    <tr>\n",
       "      <th>19</th>\n",
       "      <td>911</td>\n",
       "      <td>1</td>\n",
       "    </tr>\n",
       "    <tr>\n",
       "      <th>20</th>\n",
       "      <td>912</td>\n",
       "      <td>0</td>\n",
       "    </tr>\n",
       "    <tr>\n",
       "      <th>21</th>\n",
       "      <td>913</td>\n",
       "      <td>1</td>\n",
       "    </tr>\n",
       "    <tr>\n",
       "      <th>22</th>\n",
       "      <td>914</td>\n",
       "      <td>1</td>\n",
       "    </tr>\n",
       "    <tr>\n",
       "      <th>23</th>\n",
       "      <td>915</td>\n",
       "      <td>0</td>\n",
       "    </tr>\n",
       "    <tr>\n",
       "      <th>24</th>\n",
       "      <td>916</td>\n",
       "      <td>1</td>\n",
       "    </tr>\n",
       "    <tr>\n",
       "      <th>25</th>\n",
       "      <td>917</td>\n",
       "      <td>0</td>\n",
       "    </tr>\n",
       "    <tr>\n",
       "      <th>26</th>\n",
       "      <td>918</td>\n",
       "      <td>1</td>\n",
       "    </tr>\n",
       "    <tr>\n",
       "      <th>27</th>\n",
       "      <td>919</td>\n",
       "      <td>0</td>\n",
       "    </tr>\n",
       "    <tr>\n",
       "      <th>28</th>\n",
       "      <td>920</td>\n",
       "      <td>0</td>\n",
       "    </tr>\n",
       "    <tr>\n",
       "      <th>29</th>\n",
       "      <td>921</td>\n",
       "      <td>0</td>\n",
       "    </tr>\n",
       "    <tr>\n",
       "      <th>...</th>\n",
       "      <td>...</td>\n",
       "      <td>...</td>\n",
       "    </tr>\n",
       "    <tr>\n",
       "      <th>388</th>\n",
       "      <td>1280</td>\n",
       "      <td>0</td>\n",
       "    </tr>\n",
       "    <tr>\n",
       "      <th>389</th>\n",
       "      <td>1281</td>\n",
       "      <td>0</td>\n",
       "    </tr>\n",
       "    <tr>\n",
       "      <th>390</th>\n",
       "      <td>1282</td>\n",
       "      <td>0</td>\n",
       "    </tr>\n",
       "    <tr>\n",
       "      <th>391</th>\n",
       "      <td>1283</td>\n",
       "      <td>1</td>\n",
       "    </tr>\n",
       "    <tr>\n",
       "      <th>392</th>\n",
       "      <td>1284</td>\n",
       "      <td>1</td>\n",
       "    </tr>\n",
       "    <tr>\n",
       "      <th>393</th>\n",
       "      <td>1285</td>\n",
       "      <td>0</td>\n",
       "    </tr>\n",
       "    <tr>\n",
       "      <th>394</th>\n",
       "      <td>1286</td>\n",
       "      <td>0</td>\n",
       "    </tr>\n",
       "    <tr>\n",
       "      <th>395</th>\n",
       "      <td>1287</td>\n",
       "      <td>1</td>\n",
       "    </tr>\n",
       "    <tr>\n",
       "      <th>396</th>\n",
       "      <td>1288</td>\n",
       "      <td>0</td>\n",
       "    </tr>\n",
       "    <tr>\n",
       "      <th>397</th>\n",
       "      <td>1289</td>\n",
       "      <td>1</td>\n",
       "    </tr>\n",
       "    <tr>\n",
       "      <th>398</th>\n",
       "      <td>1290</td>\n",
       "      <td>0</td>\n",
       "    </tr>\n",
       "    <tr>\n",
       "      <th>399</th>\n",
       "      <td>1291</td>\n",
       "      <td>0</td>\n",
       "    </tr>\n",
       "    <tr>\n",
       "      <th>400</th>\n",
       "      <td>1292</td>\n",
       "      <td>1</td>\n",
       "    </tr>\n",
       "    <tr>\n",
       "      <th>401</th>\n",
       "      <td>1293</td>\n",
       "      <td>0</td>\n",
       "    </tr>\n",
       "    <tr>\n",
       "      <th>402</th>\n",
       "      <td>1294</td>\n",
       "      <td>1</td>\n",
       "    </tr>\n",
       "    <tr>\n",
       "      <th>403</th>\n",
       "      <td>1295</td>\n",
       "      <td>0</td>\n",
       "    </tr>\n",
       "    <tr>\n",
       "      <th>404</th>\n",
       "      <td>1296</td>\n",
       "      <td>0</td>\n",
       "    </tr>\n",
       "    <tr>\n",
       "      <th>405</th>\n",
       "      <td>1297</td>\n",
       "      <td>0</td>\n",
       "    </tr>\n",
       "    <tr>\n",
       "      <th>406</th>\n",
       "      <td>1298</td>\n",
       "      <td>0</td>\n",
       "    </tr>\n",
       "    <tr>\n",
       "      <th>407</th>\n",
       "      <td>1299</td>\n",
       "      <td>0</td>\n",
       "    </tr>\n",
       "    <tr>\n",
       "      <th>408</th>\n",
       "      <td>1300</td>\n",
       "      <td>1</td>\n",
       "    </tr>\n",
       "    <tr>\n",
       "      <th>409</th>\n",
       "      <td>1301</td>\n",
       "      <td>1</td>\n",
       "    </tr>\n",
       "    <tr>\n",
       "      <th>410</th>\n",
       "      <td>1302</td>\n",
       "      <td>1</td>\n",
       "    </tr>\n",
       "    <tr>\n",
       "      <th>411</th>\n",
       "      <td>1303</td>\n",
       "      <td>1</td>\n",
       "    </tr>\n",
       "    <tr>\n",
       "      <th>412</th>\n",
       "      <td>1304</td>\n",
       "      <td>0</td>\n",
       "    </tr>\n",
       "    <tr>\n",
       "      <th>413</th>\n",
       "      <td>1305</td>\n",
       "      <td>0</td>\n",
       "    </tr>\n",
       "    <tr>\n",
       "      <th>414</th>\n",
       "      <td>1306</td>\n",
       "      <td>1</td>\n",
       "    </tr>\n",
       "    <tr>\n",
       "      <th>415</th>\n",
       "      <td>1307</td>\n",
       "      <td>0</td>\n",
       "    </tr>\n",
       "    <tr>\n",
       "      <th>416</th>\n",
       "      <td>1308</td>\n",
       "      <td>0</td>\n",
       "    </tr>\n",
       "    <tr>\n",
       "      <th>417</th>\n",
       "      <td>1309</td>\n",
       "      <td>1</td>\n",
       "    </tr>\n",
       "  </tbody>\n",
       "</table>\n",
       "<p>418 rows × 2 columns</p>\n",
       "</div>"
      ],
      "text/plain": [
       "     PassengerId  Survived\n",
       "0            892         0\n",
       "1            893         0\n",
       "2            894         0\n",
       "3            895         1\n",
       "4            896         1\n",
       "5            897         0\n",
       "6            898         0\n",
       "7            899         0\n",
       "8            900         1\n",
       "9            901         0\n",
       "10           902         0\n",
       "11           903         0\n",
       "12           904         1\n",
       "13           905         0\n",
       "14           906         1\n",
       "15           907         1\n",
       "16           908         0\n",
       "17           909         0\n",
       "18           910         0\n",
       "19           911         1\n",
       "20           912         0\n",
       "21           913         1\n",
       "22           914         1\n",
       "23           915         0\n",
       "24           916         1\n",
       "25           917         0\n",
       "26           918         1\n",
       "27           919         0\n",
       "28           920         0\n",
       "29           921         0\n",
       "..           ...       ...\n",
       "388         1280         0\n",
       "389         1281         0\n",
       "390         1282         0\n",
       "391         1283         1\n",
       "392         1284         1\n",
       "393         1285         0\n",
       "394         1286         0\n",
       "395         1287         1\n",
       "396         1288         0\n",
       "397         1289         1\n",
       "398         1290         0\n",
       "399         1291         0\n",
       "400         1292         1\n",
       "401         1293         0\n",
       "402         1294         1\n",
       "403         1295         0\n",
       "404         1296         0\n",
       "405         1297         0\n",
       "406         1298         0\n",
       "407         1299         0\n",
       "408         1300         1\n",
       "409         1301         1\n",
       "410         1302         1\n",
       "411         1303         1\n",
       "412         1304         0\n",
       "413         1305         0\n",
       "414         1306         1\n",
       "415         1307         0\n",
       "416         1308         0\n",
       "417         1309         1\n",
       "\n",
       "[418 rows x 2 columns]"
      ]
     },
     "execution_count": 98,
     "metadata": {},
     "output_type": "execute_result"
    }
   ],
   "source": [
    "output"
   ]
  },
  {
   "cell_type": "code",
   "execution_count": 99,
   "metadata": {
    "collapsed": true
   },
   "outputs": [],
   "source": [
    "output.to_csv('submit.csv', index=False)"
   ]
  },
  {
   "cell_type": "code",
   "execution_count": null,
   "metadata": {
    "collapsed": true
   },
   "outputs": [],
   "source": []
  }
 ],
 "metadata": {
  "kernelspec": {
   "display_name": "Python [conda env:carnd-term1]",
   "language": "python",
   "name": "conda-env-carnd-term1-py"
  },
  "language_info": {
   "codemirror_mode": {
    "name": "ipython",
    "version": 3
   },
   "file_extension": ".py",
   "mimetype": "text/x-python",
   "name": "python",
   "nbconvert_exporter": "python",
   "pygments_lexer": "ipython3",
   "version": "3.5.2"
  },
  "widgets": {
   "state": {},
   "version": "1.1.2"
  }
 },
 "nbformat": 4,
 "nbformat_minor": 2
}
